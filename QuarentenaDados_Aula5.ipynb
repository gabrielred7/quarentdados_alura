{
  "nbformat": 4,
  "nbformat_minor": 0,
  "metadata": {
    "colab": {
      "name": "QuarentenaDados - Aula5.ipynb",
      "provenance": [],
      "collapsed_sections": []
    },
    "kernelspec": {
      "name": "python3",
      "display_name": "Python 3"
    }
  },
  "cells": [
    {
      "cell_type": "markdown",
      "metadata": {
        "id": "ZMDkznUVgKJi",
        "colab_type": "text"
      },
      "source": [
        "#Aula 5: Modelo de Regressão e Machine Learning\n",
        "\n",
        "##Introdução \n",
        "Chegou a hora de criar seu primeiro modelo de Machine Learning em nosso curso. \n",
        "\n",
        "Antes de começar execute os códigos da aula anterior, pois será necessário para essa aula. Feita a execução, continue.\n"
      ]
    },
    {
      "cell_type": "code",
      "metadata": {
        "id": "vSptEw1cihWO",
        "colab_type": "code",
        "colab": {}
      },
      "source": [
        "import pandas as pd\n",
        "import seaborn as sns\n",
        "%precision %.2f\n",
        "pd.options.display.float_format = '{:,.2f}'.format\n",
        "uri = \"https://github.com/guilhermesilveira/enem-2018/blob/master/MICRODADOS_ENEM_2018_SAMPLE_43278.csv?raw=true\"\n",
        "dados = pd.read_csv(uri)"
      ],
      "execution_count": 0,
      "outputs": []
    },
    {
      "cell_type": "code",
      "metadata": {
        "id": "Yv5Nxyqziml7",
        "colab_type": "code",
        "colab": {}
      },
      "source": [
        "colunas_de_notas = ['NU_NOTA_CN', 'NU_NOTA_CH', 'NU_NOTA_LC', 'NU_NOTA_MT', 'NU_NOTA_REDACAO']\n",
        "dados_notas = dados[colunas_de_notas].dropna()\n",
        "dados_notas.columns = ['ciencias_naturais', 'ciencias_humanas', 'linguagem_codigo', 'matematica', 'redacao']\n",
        "corr = dados_notas.corr()\n",
        "sns.heatmap(corr)"
      ],
      "execution_count": 0,
      "outputs": []
    },
    {
      "cell_type": "code",
      "metadata": {
        "id": "5vBuC2NkjNFS",
        "colab_type": "code",
        "colab": {}
      },
      "source": [
        "sns.pairplot(dados_notas)"
      ],
      "execution_count": 0,
      "outputs": []
    },
    {
      "cell_type": "markdown",
      "metadata": {
        "id": "A6KaGA1UpPRa",
        "colab_type": "text"
      },
      "source": [
        "##O Processo de Classificação para o Aprendizado de Máquina\n",
        "\n",
        "Discutiremos o que é o processo de classificação e como as máquinas podem aprender esse processo. Após essa discussão iniciaremos o tratamento dos dados para criar nosso primeiro modelo de ML.\n",
        "\n",
        "A primeira coisa que devemos fazer é **separar os dados** que vamos usar como _entrada do nosso modelo_, dos que precisamos _prever_:\n",
        "\n"
      ]
    },
    {
      "cell_type": "code",
      "metadata": {
        "id": "gsGSR9ns38vg",
        "colab_type": "code",
        "colab": {}
      },
      "source": [
        "# Vamos usar as notas das provas de \n",
        "# ciências naturais, ciências humanas, matemática e redação \n",
        "# como entrada \n",
        "x_notas = dados_notas[['ciencias_naturais', 'ciencias_humanas', 'matematica', 'redacao']]\n",
        "x_notas.head()"
      ],
      "execution_count": 0,
      "outputs": []
    },
    {
      "cell_type": "markdown",
      "metadata": {
        "id": "Q99DJBai4u2e",
        "colab_type": "text"
      },
      "source": [
        "Como separamos os dados de entrada, também devemos fazer o mesmo com aqueles que _precisamos adivinhar_."
      ]
    },
    {
      "cell_type": "code",
      "metadata": {
        "id": "i2OkwL9Y4-Nr",
        "colab_type": "code",
        "colab": {}
      },
      "source": [
        "# Preveremos as notas da prova de linguagem e códigos.\n",
        "y_adivinhar = dados_notas['linguagem_codigo']\n",
        "y_adivinhar.head()"
      ],
      "execution_count": 0,
      "outputs": []
    },
    {
      "cell_type": "markdown",
      "metadata": {
        "id": "SDU8km3e5seG",
        "colab_type": "text"
      },
      "source": [
        "Agora temos os dados que precisamos classificar, mas repare que essa é toda nossa informação! Como assim?\n",
        "\n",
        "Problema: Se eu treinar um modelo com todos esses dados, como eu vou conseguir medir a qualidade do modelo? \n",
        "\n",
        "Solução: Por isso precisamos dividir nossos dados em dois grupos, um para treino e outro para teste."
      ]
    },
    {
      "cell_type": "markdown",
      "metadata": {
        "id": "MxFf2Etr6LwU",
        "colab_type": "text"
      },
      "source": [
        "Para fazer isso vamos usar métodos da biblioteca [**Scikit-learn**](https://scikit-learn.org/stable/), ela é uma das **principais ferramentas** no mundo do Machine Learning! \n",
        "\n",
        "Além do Sklearn, iremos utilizar o **numpy** para setar o seed dos números pseudo-aleatórios."
      ]
    },
    {
      "cell_type": "code",
      "metadata": {
        "id": "1pkGfx9S6l3Z",
        "colab_type": "code",
        "colab": {}
      },
      "source": [
        "from sklearn.model_selection import train_test_split\n",
        "import numpy as np\n",
        "\n",
        "np.random.seed(43267)\n",
        "\n",
        "#Ocorrera um divisao de x_notas e Y_adivinhar para essas variaveis\n",
        "# O processo é o mesmo que realizar um função de f(x) = y\n",
        "x_treino, x_teste, y_treino, y_teste = train_test_split(x_notas, y_adivinhar)\n",
        "\n",
        "print(x_treino.shape)\n",
        "print(y_treino.shape)\n",
        "\n",
        "print(x_teste.shape)\n",
        "print(y_teste.shape)"
      ],
      "execution_count": 0,
      "outputs": []
    },
    {
      "cell_type": "markdown",
      "metadata": {
        "id": "o3DHCYwC_Iai",
        "colab_type": "text"
      },
      "source": [
        "Feita a divisão dos nossos dados, chegou a hora de criar seu primeiro **Modelo de Regressão** (Em aula discutimos a diferença entre regressão e classificação)."
      ]
    },
    {
      "cell_type": "markdown",
      "metadata": {
        "id": "UfcexAY-AkR8",
        "colab_type": "text"
      },
      "source": [
        "## Modelo de Regressão\n",
        "\n",
        "Vamos utilizar o método LinearSVR do scikit-learn:"
      ]
    },
    {
      "cell_type": "code",
      "metadata": {
        "id": "nyttmJGECQrz",
        "colab_type": "code",
        "colab": {}
      },
      "source": [
        "#O programa ira aprender com os exemplos treino\n",
        "from sklearn.svm import LinearSVR\n",
        "modelo = LinearSVR()\n",
        "modelo.fit(x_treino, y_treino)"
      ],
      "execution_count": 0,
      "outputs": []
    },
    {
      "cell_type": "markdown",
      "metadata": {
        "id": "HRjjYA-4CmiZ",
        "colab_type": "text"
      },
      "source": [
        "Até o momento nós treinamos o modelo apenas com o `.fit()`, mas falta fazer a predição dos resultados. \n",
        "\n",
        "Para realizar a predição chamamos o método `.predict()` do modelo.\n"
      ]
    },
    {
      "cell_type": "code",
      "metadata": {
        "id": "bSY4SUtlCuSn",
        "colab_type": "code",
        "colab": {}
      },
      "source": [
        "#Com a aprendizagem ele fará as previsões\n",
        "predicoes_notas_linguagem = modelo.predict(x_teste)\n",
        "predicoes_notas_linguagem[:4]"
      ],
      "execution_count": 0,
      "outputs": []
    },
    {
      "cell_type": "markdown",
      "metadata": {
        "id": "lGYdx6QeEM2e",
        "colab_type": "text"
      },
      "source": [
        "Você fez uma previsão do que seria y_teste analisando o x_teste e tendo como base  x_treino e y_treino. \n",
        "\n",
        "Agora compare a saída da predição com os valores reais logo abaixo, parece que está fazendo sentido, certo?!\n"
      ]
    },
    {
      "cell_type": "code",
      "metadata": {
        "id": "Qjl90QPMEfhe",
        "colab_type": "code",
        "colab": {}
      },
      "source": [
        "# original_notas_linguagem\n",
        "y_teste[:4]"
      ],
      "execution_count": 0,
      "outputs": []
    },
    {
      "cell_type": "markdown",
      "metadata": {
        "id": "UXoP9aBXEwW0",
        "colab_type": "text"
      },
      "source": [
        "##Plotando os Gráficos do Modelo de Regressão\n",
        "\n",
        "Nos próximos trechos de códigos, vamos plotar alguns gráficos! \n",
        "\n",
        "As discussões e todas as análises sobre estas visualizações foram feitas de forma muito rica na videoaula, portanto recomendo fortemente acompanhá-las.\n"
      ]
    },
    {
      "cell_type": "code",
      "metadata": {
        "id": "Pndbrog6FVMS",
        "colab_type": "code",
        "colab": {}
      },
      "source": [
        "#Grafico dos valores previstos pelos os valores reais\n",
        "import matplotlib.pyplot as plt\n",
        "plt.figure(figsize = (9,9))\n",
        "sns.scatterplot(x = y_teste.values, y = predicoes_notas_linguagem)"
      ],
      "execution_count": 0,
      "outputs": []
    },
    {
      "cell_type": "code",
      "metadata": {
        "id": "EYwt0LxeGN29",
        "colab_type": "code",
        "colab": {}
      },
      "source": [
        "#Grafico dos valores previstos pelos erros de previsão\n",
        "plt.figure(figsize = (9,9))\n",
        "sns.scatterplot(x = y_teste.values, y = y_teste.values - predicoes_notas_linguagem)"
      ],
      "execution_count": 0,
      "outputs": []
    },
    {
      "cell_type": "code",
      "metadata": {
        "id": "sTR_0BmTOe0h",
        "colab_type": "code",
        "colab": {}
      },
      "source": [
        "#Previsão TOSCA usando como base a media das notas treinos\n",
        "plt.figure(figsize = (9,9))\n",
        "sns.scatterplot(x = y_teste.values, y = y_teste - y_treino.mean())"
      ],
      "execution_count": 0,
      "outputs": []
    },
    {
      "cell_type": "markdown",
      "metadata": {
        "id": "jgeuC2uJV7Jk",
        "colab_type": "text"
      },
      "source": [
        "Após discutir esses gráficos, vamos criar mais um modelo de machine learning baseado em \"árvores\":\n"
      ]
    },
    {
      "cell_type": "code",
      "metadata": {
        "id": "WpzNI9oHWJbP",
        "colab_type": "code",
        "colab": {}
      },
      "source": [
        "from sklearn.tree import DecisionTreeRegressor\n",
        "modelo = DecisionTreeRegressor()\n",
        "modelo.fit(x_treino, y_treino)\n",
        "predicoes_notas_linguagem = modelo.predict(x_teste)"
      ],
      "execution_count": 0,
      "outputs": []
    },
    {
      "cell_type": "markdown",
      "metadata": {
        "id": "QpQX5rCKb2pG",
        "colab_type": "text"
      },
      "source": [
        "Após treinar o modelo de árvore e fazer as predições, plotamos duas imagens.\n",
        "\n",
        "A **primeira** é muito parecida com as os gráficos do primeiro classificador."
      ]
    },
    {
      "cell_type": "code",
      "metadata": {
        "id": "GSr0YhGpSs_-",
        "colab_type": "code",
        "colab": {}
      },
      "source": [
        "#Grafico dos valores previstos pelos os valores reais com árvore\n",
        "plt.figure(figsize = (7,7))\n",
        "sns.scatterplot(x = y_teste.values, y = predicoes_notas_linguagem)"
      ],
      "execution_count": 0,
      "outputs": []
    },
    {
      "cell_type": "markdown",
      "metadata": {
        "id": "8zUABVVwjOdr",
        "colab_type": "text"
      },
      "source": [
        "A **segunda mostra** os valores reais e valores previstos em relação as notas teste de matematica. Essa figura é muito interessante e mostra uma sobreposição muito boa entre elas, indicando que nossos resultados fazem sentido.\n",
        "\n"
      ]
    },
    {
      "cell_type": "code",
      "metadata": {
        "id": "UzpqVsudjOm0",
        "colab_type": "code",
        "colab": {}
      },
      "source": [
        "plt.figure(figsize = (9,9))\n",
        "sns.scatterplot(x = x_teste['matematica'].values, y = predicoes_notas_linguagem)\n",
        "sns.scatterplot(x = x_teste['matematica'].values, y = y_teste.values)"
      ],
      "execution_count": 0,
      "outputs": []
    },
    {
      "cell_type": "markdown",
      "metadata": {
        "id": "w7hyxbPSkSV_",
        "colab_type": "text"
      },
      "source": [
        "Avaliar os modelos por imagens é uma forma relevante, mas não resume a informação muito bem, por isso ficaria complexo avaliar dois ou três modelos apenas com gráficos."
      ]
    },
    {
      "cell_type": "markdown",
      "metadata": {
        "id": "XzuJ2MDAk845",
        "colab_type": "text"
      },
      "source": [
        "##Métricas de Avaliação\n",
        "O que precisamos agora é de uma métrica capaz de nos dizer como nosso modelo está indo, aqui vamos usar o **erro quadrático médio**. Existem centenas de métricas de avaliação, tudo vai depender do que você precisa e o que você está prevendo. "
      ]
    },
    {
      "cell_type": "code",
      "metadata": {
        "id": "T2w_rn1blVuM",
        "colab_type": "code",
        "colab": {
          "base_uri": "https://localhost:8080/",
          "height": 35
        },
        "outputId": "30edfc0f-19bd-411c-fc80-36afac635fc4"
      },
      "source": [
        "from sklearn.metrics import mean_squared_error\n",
        "mean_squared_error(y_teste, predicoes_notas_linguagem)"
      ],
      "execution_count": 66,
      "outputs": [
        {
          "output_type": "execute_result",
          "data": {
            "text/plain": [
              "4156.93"
            ]
          },
          "metadata": {
            "tags": []
          },
          "execution_count": 66
        }
      ]
    },
    {
      "cell_type": "markdown",
      "metadata": {
        "id": "QC9J6LpZnva6",
        "colab_type": "text"
      },
      "source": [
        "Veja que nosso erro quadrático médio deu em torno dos 4186.22. \n",
        "\n",
        "Embora pelo gráfico nosso modelo pareça muito bom, pela métrica parece ser um pouco alto a margem de erros."
      ]
    },
    {
      "cell_type": "markdown",
      "metadata": {
        "id": "8ktMqWQGn4zj",
        "colab_type": "text"
      },
      "source": [
        "O MSE, sigla em inglês para essá métrica, é uma medida que **quanto mais perto de zero melhor**. \n",
        "\n",
        "Veja o resultado quando calculamos o MSE de dois vetores iguais:"
      ]
    },
    {
      "cell_type": "code",
      "metadata": {
        "id": "itETjDEjn9D2",
        "colab_type": "code",
        "colab": {}
      },
      "source": [
        "# Nosso resultado é zero! \n",
        "mean_squared_error(y_teste, y_teste)"
      ],
      "execution_count": 0,
      "outputs": []
    },
    {
      "cell_type": "markdown",
      "metadata": {
        "id": "4RC6odYrrx9M",
        "colab_type": "text"
      },
      "source": [
        "Você deve estar se perguntando: Meu modelo não está nem perto de zero, será que ele é tão ruim assim?\n",
        "\n",
        "Nós ainda não temos como te dar essa resposta, precisamos de um critério comparativo, pois assim conseguimos dizer como nosso modelo está indo. \n",
        "\n",
        "Por exemplo, que tal classificar os nossos dados de uma maneira \"bobinha\", uma classificação de avaliação ingênua? Para isso temos os chamados métodos Dummy."
      ]
    },
    {
      "cell_type": "code",
      "metadata": {
        "id": "Qh2zgddcsEMD",
        "colab_type": "code",
        "colab": {}
      },
      "source": [
        "from sklearn.dummy import DummyRegressor\n",
        "modelo_dummy = DummyRegressor()\n",
        "modelo_dummy.fit(x_treino, y_treino)\n",
        "dummy_predicoes = modelo_dummy.predict(x_teste)\n",
        "mean_squared_error(y_teste, dummy_predicoes)"
      ],
      "execution_count": 0,
      "outputs": []
    },
    {
      "cell_type": "markdown",
      "metadata": {
        "id": "WK--JXassIZq",
        "colab_type": "text"
      },
      "source": [
        "Finalmente conseguimos responder se nosso modelo é tão ruim assim! \n",
        "\n",
        "Na realidade nosso modelo não é um dos melhores, temos muito o que melhorar, mas já somos melhores que uma classificação ingênua. "
      ]
    },
    {
      "cell_type": "markdown",
      "metadata": {
        "id": "CbpknVQ1sLQw",
        "colab_type": "text"
      },
      "source": [
        "#Desafios\n",
        "\n",
        "##Desafio 1\n",
        "Explore os parâmetros C e o max_iter do modelo LinesSVR. Não há garantias que o resultado será melhor."
      ]
    },
    {
      "cell_type": "code",
      "metadata": {
        "id": "DJVydU4SsSDc",
        "colab_type": "code",
        "colab": {
          "base_uri": "https://localhost:8080/",
          "height": 219
        },
        "outputId": "c1154dd4-0763-4916-a03b-08b632ae7cc8"
      },
      "source": [
        "from sklearn.svm import LinearSVR\n",
        "modelo_orig = LinearSVR()\n",
        "modelo_orig.fit(x_treino, y_treino)\n",
        "modelo = LinearSVR(C=0.00099, max_iter=72000)\n",
        "modelo.fit(x_treino, y_treino)\n",
        "\n",
        "predicoes_notas_linguagem_orig = modelo_orig.predict(x_teste)\n",
        "print(predicoes_notas_linguagem_orig[:5])\n",
        "predicoes_notas_linguagem = modelo.predict(x_teste)\n",
        "print(predicoes_notas_linguagem[:5])\n",
        "\n",
        "print(\"----------------------------------\")\n",
        "y_teste[:5]"
      ],
      "execution_count": 69,
      "outputs": [
        {
          "output_type": "stream",
          "text": [
            "/usr/local/lib/python3.6/dist-packages/sklearn/svm/_base.py:947: ConvergenceWarning: Liblinear failed to converge, increase the number of iterations.\n",
            "  \"the number of iterations.\", ConvergenceWarning)\n"
          ],
          "name": "stderr"
        },
        {
          "output_type": "stream",
          "text": [
            "[540.94392095 648.38429838 535.41304744 536.42395167 595.1342355 ]\n",
            "[474.39136846 545.42825734 486.75272814 421.59706174 543.5243963 ]\n",
            "----------------------------------\n"
          ],
          "name": "stdout"
        },
        {
          "output_type": "execute_result",
          "data": {
            "text/plain": [
              "41528   420.20\n",
              "81918   545.60\n",
              "22786   518.10\n",
              "17935   539.20\n",
              "70617   536.90\n",
              "Name: linguagem_codigo, dtype: float64"
            ]
          },
          "metadata": {
            "tags": []
          },
          "execution_count": 69
        }
      ]
    },
    {
      "cell_type": "code",
      "metadata": {
        "id": "n64gQpatw8Y_",
        "colab_type": "code",
        "colab": {}
      },
      "source": [
        "plt.figure(figsize=(9,9))\n",
        "sns.scatterplot(x=y_teste.values, y=y_teste - predicoes_notas_linguagem)"
      ],
      "execution_count": 0,
      "outputs": []
    },
    {
      "cell_type": "code",
      "metadata": {
        "id": "0pd6_-dZxkSU",
        "colab_type": "code",
        "colab": {}
      },
      "source": [
        "mean_squared_error(y_teste, predicoes_notas_linguagem_orig)"
      ],
      "execution_count": 0,
      "outputs": []
    },
    {
      "cell_type": "code",
      "metadata": {
        "id": "PxL4NuGLxvvx",
        "colab_type": "code",
        "colab": {
          "base_uri": "https://localhost:8080/",
          "height": 35
        },
        "outputId": "3db54bc5-04fb-40d6-86ee-eed0e5a9a37c"
      },
      "source": [
        " mean_squared_error(y_teste, predicoes_notas_linguagem)"
      ],
      "execution_count": 72,
      "outputs": [
        {
          "output_type": "execute_result",
          "data": {
            "text/plain": [
              "2323.14"
            ]
          },
          "metadata": {
            "tags": []
          },
          "execution_count": 72
        }
      ]
    },
    {
      "cell_type": "markdown",
      "metadata": {
        "id": "Bd1oSWnvsSN1",
        "colab_type": "text"
      },
      "source": [
        "##Desafio 2\n",
        "\n",
        "Use a média das notas das 4 provas como input do input e plote um gráfico com a previsão e valores reais (Igual ao gráfico sugerido pelo Allan em aula)"
      ]
    },
    {
      "cell_type": "code",
      "metadata": {
        "id": "T_jaDUSKtnU7",
        "colab_type": "code",
        "colab": {}
      },
      "source": [
        "plt.figure(figsize=(9,9))\n",
        "sns.scatterplot(x=x_teste.mean(axis=1).values, y=predicoes_notas_linguagem)\n",
        "sns.scatterplot(x=x_teste.mean(axis=1).values, y=y_teste.values)"
      ],
      "execution_count": 0,
      "outputs": []
    },
    {
      "cell_type": "markdown",
      "metadata": {
        "id": "XksxRPNGtnga",
        "colab_type": "text"
      },
      "source": [
        "##Desafio 3 \n",
        "\n",
        "Remover as notas zero e testar os mesmos modelos, comparando o resultado"
      ]
    },
    {
      "cell_type": "code",
      "metadata": {
        "id": "x1XqVeAmtuxm",
        "colab_type": "code",
        "colab": {}
      },
      "source": [
        "import numpy as np\n",
        "\n",
        "dados_nota = dados.copy()\n",
        "dados_nota_2 = dados_nota.copy()\n",
        "dados_nota_sem_0 = dados_nota_2.copy()\n",
        "\n",
        "dados_nota_sem_0['NU_NOTA_CN'] = dados_nota_2['NU_NOTA_CN'].replace(0., np.NAN)\n",
        "dados_nota_sem_0['NU_NOTA_CH'] = dados_nota_2['NU_NOTA_CH'].replace(0., np.NAN)\n",
        "dados_nota_sem_0['NU_NOTA_LC'] = dados_nota_2['NU_NOTA_LC'].replace(0., np.NAN)\n",
        "dados_nota_sem_0['NU_NOTA_MT'] = dados_nota_2['NU_NOTA_MT'].replace(0., np.NAN)\n",
        "\n",
        "dados_nota_sem_0.dropna(subset=['NU_NOTA_CN', 'NU_NOTA_CH', 'NU_NOTA_LC', 'NU_NOTA_MT'], inplace=True)\n",
        "\n",
        "dados_nota_sem_0 = dados_nota_sem_0[['NU_NOTA_CN', 'NU_NOTA_CH', 'NU_NOTA_LC', 'NU_NOTA_MT','NU_NOTA_REDACAO']]"
      ],
      "execution_count": 0,
      "outputs": []
    },
    {
      "cell_type": "code",
      "metadata": {
        "id": "3mo63Vvfyj3H",
        "colab_type": "code",
        "colab": {}
      },
      "source": [
        "dados_nota_sem_0.columns = ['ciencias_naturais', 'ciencias_humanas', 'linguagem_codigo', 'matematica', 'redacao']\n",
        "x_4_notas_sem_nota_0 = dados_nota_sem_0[['ciencias_naturais', 'ciencias_humanas', 'matematica', 'redacao']]\n",
        "x_4_notas_sem_nota_0.head()"
      ],
      "execution_count": 0,
      "outputs": []
    },
    {
      "cell_type": "code",
      "metadata": {
        "id": "N0vmg5gcynFH",
        "colab_type": "code",
        "colab": {}
      },
      "source": [
        "y_adivinhar_sem_nota_0 = dados_nota_sem_0['linguagem_codigo']\n",
        "y_adivinhar_sem_nota_0"
      ],
      "execution_count": 0,
      "outputs": []
    },
    {
      "cell_type": "code",
      "metadata": {
        "id": "szde5Z9IyqIk",
        "colab_type": "code",
        "colab": {}
      },
      "source": [
        "np.random.seed(43267)\n",
        "\n",
        "# f(x) = y\n",
        "x_treino, x_teste, y_treino, y_teste = train_test_split(x_4_notas_sem_nota_0, y_adivinhar_sem_nota_0)\n",
        "\n",
        "print(x_treino.shape)\n",
        "print(x_teste.shape)\n",
        "print(y_treino.shape)\n",
        "print(y_teste.shape)"
      ],
      "execution_count": 0,
      "outputs": []
    },
    {
      "cell_type": "code",
      "metadata": {
        "id": "IeD2Wva7yr6n",
        "colab_type": "code",
        "colab": {}
      },
      "source": [
        "x_treino.head()"
      ],
      "execution_count": 0,
      "outputs": []
    },
    {
      "cell_type": "code",
      "metadata": {
        "id": "5RtWrqGOy2D4",
        "colab_type": "code",
        "colab": {}
      },
      "source": [
        "modelo_sem_0 = LinearSVR(C=0.000099, max_iter=72870)\n",
        "modelo_sem_0.fit(x_treino, y_treino)"
      ],
      "execution_count": 0,
      "outputs": []
    },
    {
      "cell_type": "code",
      "metadata": {
        "id": "1gNN6Cu_y3Wd",
        "colab_type": "code",
        "colab": {}
      },
      "source": [
        "predicoes_notas_linguagem_sem_0 = modelo_sem_0.predict(x_teste)\n",
        "predicoes_notas_linguagem_sem_0[:5]"
      ],
      "execution_count": 0,
      "outputs": []
    },
    {
      "cell_type": "code",
      "metadata": {
        "id": "PlSliT4ly5V3",
        "colab_type": "code",
        "colab": {}
      },
      "source": [
        "plt.figure(figsize=(9,9))\n",
        "sns.scatterplot(x=y_teste.values, y=predicoes_notas_linguagem_sem_0)"
      ],
      "execution_count": 0,
      "outputs": []
    },
    {
      "cell_type": "code",
      "metadata": {
        "id": "t7fg-cZ5y7Er",
        "colab_type": "code",
        "colab": {}
      },
      "source": [
        "plt.figure(figsize=(9,9))\n",
        "sns.scatterplot(x=x_teste.mean(axis=1).values, y=predicoes_notas_linguagem_sem_0)\n",
        "sns.scatterplot(x=x_teste.mean(axis=1).values, y=y_teste.values)"
      ],
      "execution_count": 0,
      "outputs": []
    },
    {
      "cell_type": "code",
      "metadata": {
        "id": "z5VCn6vry8af",
        "colab_type": "code",
        "colab": {}
      },
      "source": [
        "mean_squared_error(y_teste, predicoes_notas_linguagem_sem_0)"
      ],
      "execution_count": 0,
      "outputs": []
    },
    {
      "cell_type": "markdown",
      "metadata": {
        "id": "r97ViEootu_f",
        "colab_type": "text"
      },
      "source": [
        "##Desafio 4\n",
        "\n",
        "Interpretar tudo que foi feito e compartilhar suas conclusões"
      ]
    },
    {
      "cell_type": "code",
      "metadata": {
        "id": "LajltuDttxxx",
        "colab_type": "code",
        "colab": {}
      },
      "source": [
        "Foi ensinado modelo de predições, onde através de algumas informações pode-se chegar a um valor aproximado para outra informação não realizada.\n",
        "Também pude identificar que utilizando os parametros C e max_iter para situação testa da notas, pode se nota uma melhor aproximação desejada."
      ],
      "execution_count": 0,
      "outputs": []
    },
    {
      "cell_type": "markdown",
      "metadata": {
        "id": "MHdHYDhqtx7D",
        "colab_type": "text"
      },
      "source": [
        "##Desafio 5\n",
        "\n",
        "Calcule as métricas de erro que utilizamos (mean square root error) também no conjunto de treino, e veja o que acontece comparado com o conjunto de teste."
      ]
    },
    {
      "cell_type": "code",
      "metadata": {
        "id": "FUzY_-jJt00J",
        "colab_type": "code",
        "colab": {}
      },
      "source": [
        "modelo = DecisionTreeRegressor()\n",
        "modelo.fit(x_treino, y_treino)\n",
        "predicoes_notas_linguagem = modelo.predict(x_treino)\n",
        "mean_squared_error(y_treino, predicoes_notas_linguagem)"
      ],
      "execution_count": 0,
      "outputs": []
    }
  ]
}