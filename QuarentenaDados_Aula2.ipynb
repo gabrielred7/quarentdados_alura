{
  "nbformat": 4,
  "nbformat_minor": 0,
  "metadata": {
    "colab": {
      "name": "QuarentenaDados - Aula2.ipynb",
      "provenance": [],
      "collapsed_sections": []
    },
    "kernelspec": {
      "name": "python3",
      "display_name": "Python 3"
    }
  },
  "cells": [
    {
      "cell_type": "markdown",
      "metadata": {
        "id": "_3-K0Nlv25-Z",
        "colab_type": "text"
      },
      "source": [
        "#Aula 2: Médias, Medianas e Visualização de Dados.\n",
        "##Introdução\n",
        "\n",
        "Nesta aula vamos estudar: \n",
        "* Com mais profundidade as técnicas de centralidade. \n",
        "* Conhecer algumas boas práticas de visualização de dados.\n",
        "* O famoso Boxplot.\n",
        "\n",
        "Vamos relembrar como alguns dados estavam configurados na Aula anterior"
      ]
    },
    {
      "cell_type": "code",
      "metadata": {
        "id": "WbAFXjTq_r51",
        "colab_type": "code",
        "outputId": "9004755c-3332-4045-8f3a-38c44942a0b5",
        "colab": {
          "base_uri": "https://localhost:8080/",
          "height": 206
        }
      },
      "source": [
        "import pandas as pd\n",
        "filmes = pd.read_csv(\"https://raw.githubusercontent.com/alura-cursos/introducao-a-data-science/master/aula0/ml-latest-small/movies.csv\")\n",
        "filmes.columns = [\"filmeId\", \"titulo\", \"generos\"]\n",
        "filmes.head()"
      ],
      "execution_count": 0,
      "outputs": [
        {
          "output_type": "execute_result",
          "data": {
            "text/html": [
              "<div>\n",
              "<style scoped>\n",
              "    .dataframe tbody tr th:only-of-type {\n",
              "        vertical-align: middle;\n",
              "    }\n",
              "\n",
              "    .dataframe tbody tr th {\n",
              "        vertical-align: top;\n",
              "    }\n",
              "\n",
              "    .dataframe thead th {\n",
              "        text-align: right;\n",
              "    }\n",
              "</style>\n",
              "<table border=\"1\" class=\"dataframe\">\n",
              "  <thead>\n",
              "    <tr style=\"text-align: right;\">\n",
              "      <th></th>\n",
              "      <th>filmeId</th>\n",
              "      <th>titulo</th>\n",
              "      <th>generos</th>\n",
              "    </tr>\n",
              "  </thead>\n",
              "  <tbody>\n",
              "    <tr>\n",
              "      <th>0</th>\n",
              "      <td>1</td>\n",
              "      <td>Toy Story (1995)</td>\n",
              "      <td>Adventure|Animation|Children|Comedy|Fantasy</td>\n",
              "    </tr>\n",
              "    <tr>\n",
              "      <th>1</th>\n",
              "      <td>2</td>\n",
              "      <td>Jumanji (1995)</td>\n",
              "      <td>Adventure|Children|Fantasy</td>\n",
              "    </tr>\n",
              "    <tr>\n",
              "      <th>2</th>\n",
              "      <td>3</td>\n",
              "      <td>Grumpier Old Men (1995)</td>\n",
              "      <td>Comedy|Romance</td>\n",
              "    </tr>\n",
              "    <tr>\n",
              "      <th>3</th>\n",
              "      <td>4</td>\n",
              "      <td>Waiting to Exhale (1995)</td>\n",
              "      <td>Comedy|Drama|Romance</td>\n",
              "    </tr>\n",
              "    <tr>\n",
              "      <th>4</th>\n",
              "      <td>5</td>\n",
              "      <td>Father of the Bride Part II (1995)</td>\n",
              "      <td>Comedy</td>\n",
              "    </tr>\n",
              "  </tbody>\n",
              "</table>\n",
              "</div>"
            ],
            "text/plain": [
              "   filmeId  ...                                      generos\n",
              "0        1  ...  Adventure|Animation|Children|Comedy|Fantasy\n",
              "1        2  ...                   Adventure|Children|Fantasy\n",
              "2        3  ...                               Comedy|Romance\n",
              "3        4  ...                         Comedy|Drama|Romance\n",
              "4        5  ...                                       Comedy\n",
              "\n",
              "[5 rows x 3 columns]"
            ]
          },
          "metadata": {
            "tags": []
          },
          "execution_count": 16
        }
      ]
    },
    {
      "cell_type": "markdown",
      "metadata": {
        "id": "yvEv6T46_8ZL",
        "colab_type": "text"
      },
      "source": [
        "#Separando informações específicas de um DataFrame\n",
        "\n",
        "Nessa Aula precisamos segregar os gêneros de cada um dos filmes contidos na base de dados do Movie Lens.\n",
        "\n",
        "Como visto acima, temos os títulos e uma coluna com os respectivos _gêneros_, todos em uma única coluna, cada label é separada com um | como (Adventure|Children|Fantasy) sendo do tipo _string_.\n",
        "\n",
        "Para solucionar nosso problema precisamos separar cada um dos gêneros para então realizar a contagem. Existe várias formas de resolver este problema, mas como estamos usando o pandas já temos algo para facilitar nosso processamento dos dados. \n",
        "\n",
        "Vamos aplicar o método e logo em seguida explicar a saída geranda."
      ]
    },
    {
      "cell_type": "code",
      "metadata": {
        "id": "FVbztXitB99S",
        "colab_type": "code",
        "colab": {}
      },
      "source": [
        "#Separando a coluna generos do resto\n",
        "filmes[\"generos\"].str.get_dummies('|')"
      ],
      "execution_count": 0,
      "outputs": []
    },
    {
      "cell_type": "markdown",
      "metadata": {
        "id": "RVRZDS7aEOCh",
        "colab_type": "text"
      },
      "source": [
        "Como você percebeu a saída é um DataFrame, cada linha corresponde a respectiva linha da coluna gênero, cada coluna corresponde a um gênero (repare que cada gênero único virou uma coluna no DF). O que você deve estar se perguntando é como os valores 0/1 são preenchidos?.\n",
        "\n",
        "Para explicar, vamos pegar os gêneros do filme **Jumanji**, (Adventure|Children|Fantasy): \n",
        "* Na coluna dos repectivos gêneros o valor será 1. \n",
        "* Para todos os outros gêneros, que não são gêneros do filme Jumanji, vale 0. \n",
        "\n",
        "Em suma, se o nome da coluna pertence a algum gêreno do respectivo filme, o valor será 1 caso contrário 0.\n",
        "\n",
        "Até aqui resolvemos uma parte do problema, agora precisamo somar quantos 1 cada coluna tem."
      ]
    },
    {
      "cell_type": "code",
      "metadata": {
        "id": "dIsaizoxENV2",
        "colab_type": "code",
        "colab": {}
      },
      "source": [
        "#Somandos os \"1\" de cada tabela\n",
        "#OBS: É pra somar, nao contar, pq isso iria incluiria os zero\n",
        "filmes[\"generos\"].str.get_dummies('|').sum()"
      ],
      "execution_count": 0,
      "outputs": []
    },
    {
      "cell_type": "markdown",
      "metadata": {
        "id": "e2hvCb5cGJWu",
        "colab_type": "text"
      },
      "source": [
        "Ótimo, resolvemos o desafio e agora temos quantas vezes cada gênero aparece. Assim, fica fácil de reponder perguntas como: \n",
        "* Qual o gênero com mais filmes produzidos? \n",
        "* Qual o com menos? \n",
        "* Qual o segundo?\n",
        "\n",
        "OBS: Lembrando que o dado está restrito as informações do movie lens.\n",
        "\n",
        "Se você tentou reponder, deve ter notado que não foi tão fácil assim, as informações não estão ordenadas e toda hora você precisa percorrer a tabela para fazer comparações. Nós podemos melhorar isso ordenando as informações.\n"
      ]
    },
    {
      "cell_type": "code",
      "metadata": {
        "id": "z-11Us4qGgVH",
        "colab_type": "code",
        "colab": {}
      },
      "source": [
        "#Ordenando as informações em ordem decrescente com base no valor\n",
        "filmes[\"generos\"].str.get_dummies('|').sum().sort_values(ascending=False)"
      ],
      "execution_count": 0,
      "outputs": []
    },
    {
      "cell_type": "markdown",
      "metadata": {
        "id": "eFZbAkwdIYcH",
        "colab_type": "text"
      },
      "source": [
        "##Plotando o Gráfico\n",
        "\n",
        "Conseguimos responder as perguntas anteriores sem grandes dificuldades. Mas ainda podemos melhorar a forma de expor nossa informação usando gráficos.\n",
        "\n",
        "Porem, aprendemos que não adianta só plotar uma imagem, é preciso que faça sentido para a informação que queremos analisar, um gráfico de linhas, por exemplo, não faz muito sentido.\n",
        "\n",
        "Tentemos o famoso grafico de pizza:"
      ]
    },
    {
      "cell_type": "code",
      "metadata": {
        "id": "i05Z6ri7K8fx",
        "colab_type": "code",
        "colab": {}
      },
      "source": [
        "#Importamos a biblioteca matplotlib mais uma vez e usamos o grafico de pizza\n",
        "import matplotlib.pyplot as plt\n",
        "filmes[\"generos\"].str.get_dummies('|').sum().sort_values(ascending=False).plot(kind='pie', \n",
        "                                                                               title='Categorias de filmes e suas presenças relativas', \n",
        "                                                                               figsize=(8,8))\n",
        "plt.show()"
      ],
      "execution_count": 0,
      "outputs": []
    },
    {
      "cell_type": "markdown",
      "metadata": {
        "id": "uIMZxbyNLcq0",
        "colab_type": "text"
      },
      "source": [
        "Algo que fica evidente neste gráfico é que _Drama, Comedy, Thriller, e Action_ tem proporções \"grandes\", mas qualquer outra análise fica complicada. Porque?\n",
        "* Primeiro, as cores começa a se repetir e isso não é o ideial.\n",
        "* Segundo, repare nos gêneros com menos filmes, consegue tirar alguma informação de lá? Está muito difícil de analisar.\n",
        "* Terceiro, vamos tentar comparar _Thriller e Action_, qual está presente em mais filmes? Difícil responder. Quando estamos trabalhando com gráficos desse tipo fazemos comparações entre área, mas nós humanos não somos bons nisso.\n",
        "* Por último, o importante de uma visualização é que ela seja \"transparente\" ao intuíto de nossa análise. Ou seja, estamos querendo analisar as informações de **quantidade**, comparando as labels de forma geral e evidênciando de maneira **clara** as diferenças entre elas (proporções).\n",
        "\n",
        "Portanto, o gráfico de pizza não torna as comparações claras, sendo assim uma má ideia. Vamos construir juntos uma solução mais adequada!"
      ]
    },
    {
      "cell_type": "code",
      "metadata": {
        "id": "HGPxsF8WNCH_",
        "colab_type": "code",
        "colab": {}
      },
      "source": [
        "#Mudamos da pizza para a barra, alterando apenas o parâmetro kind do método.\n",
        "filmes[\"generos\"].str.get_dummies('|').sum().sort_values(ascending=False).plot(kind='bar', \n",
        "                                                                               title='Filmes por categoria', \n",
        "                                                                               figsize=(8,8))\n",
        "plt.show()"
      ],
      "execution_count": 0,
      "outputs": []
    },
    {
      "cell_type": "markdown",
      "metadata": {
        "id": "a6d5Y3jhN10I",
        "colab_type": "text"
      },
      "source": [
        "Conclusão: Veja como o gráfico de barra torna a análise mais simples, logo de cara a diferença entre _Drama e Comedy_, comparado aos demais gêneros fica evidênte. No gráfico de pizza era super difícil comparar _Thriller e Action_, agora a comparação ficou **fácil** e conseguimos perceber o quão perto estão uma da outra."
      ]
    },
    {
      "cell_type": "markdown",
      "metadata": {
        "id": "7qSJi8-xQycW",
        "colab_type": "text"
      },
      "source": [
        "A interpretação dos dados **melhorou muito** com essa visualização, mas podemos melhorar ainda mais. O que queremos é tornar evidênte os gêneros que tem a maior participação nos filmes em geral, ou seja transparecer através da imagem uma visão geral de proporcionalidade. Para tornar evidente essa informação vamos utilizar algo \"semelhante\" a um mapa de calor."
      ]
    },
    {
      "cell_type": "markdown",
      "metadata": {
        "id": "QyUSwJIkeSQC",
        "colab_type": "text"
      },
      "source": [
        "##Plotando Gráfico de Gênero de Filmes com Seaborn\n",
        "\n",
        "Para plotar o gráfico com um mapa de calor como queremos, fazemos o seguinte:\n",
        "* Primeiro, não plotamos mais a imagem com plot do pandas, vamos precisar de uma biblioteca de visualização mais poderosa para configurar nossa imagem, utilizamos o **seaborn**.\n",
        "* Segundo, chamamos o **barplot** do seaborn, adicionando uma paleta de cores (**palette**) com efeito de mapa de calor no parâmetro do método responsavel pela paleta de cores.\n",
        "* Terceiro, também adicionamos um método especifico para que todos os gráficos tenham a **linha de grade do eixo X evidênte**, facilitando a comparação entre as barras.\n",
        "* Por último, mudamos o **tamanho da imagem**[link text](https://) com o figsize do método figure(). Assim, temos um gráfico com muitas informações e agradável de analisar.\n",
        "\n",
        "Veja abaixo:\n",
        "\n"
      ]
    },
    {
      "cell_type": "code",
      "metadata": {
        "id": "t-3sKKQLeZHB",
        "colab_type": "code",
        "outputId": "8d3a1464-521b-4dd8-fb48-4091a9788890",
        "colab": {
          "base_uri": "https://localhost:8080/",
          "height": 415
        }
      },
      "source": [
        "#Importando biblioteca seaborn\n",
        "import seaborn as sns\n",
        "#Deixando a linha de grade do eixo x evidente\n",
        "sns.set_style(\"whitegrid\")\n",
        "filmes_por_genero = filmes[\"generos\"].str.get_dummies('|').sum().sort_values(ascending=False)\n",
        "#Mudamos o tamanho da imagem\n",
        "plt.figure(figsize=(25,8))\n",
        "#Chamando o barplot do seabon, no paramentro informamos o que será visualizado nos eixos \n",
        "#e adicionamos a paletra de cores com efeito de mapa de calor\n",
        "sns.barplot(x=filmes_por_genero.index,\n",
        "            y=filmes_por_genero.values,\n",
        "            palette=sns.color_palette(\"BuGn_r\", n_colors=len(filmes_por_genero) + 4))\n",
        "plt.show()"
      ],
      "execution_count": 0,
      "outputs": [
        {
          "output_type": "display_data",
          "data": {
            "image/png": "[encoded data removed]",
            "text/plain": [
              "<Figure size 1800x576 with 1 Axes>"
            ]
          },
          "metadata": {
            "tags": []
          }
        }
      ]
    },
    {
      "cell_type": "markdown",
      "metadata": {
        "id": "x0dQYpU-iZ56",
        "colab_type": "text"
      },
      "source": [
        "Conseguimos analisar e tirar conclusões trabalhando com a visualização dos _gêneros_ dos filmes. Agora vamos utilizar visualizações para entender melhor as _notas_ de um filme.\n"
      ]
    },
    {
      "cell_type": "markdown",
      "metadata": {
        "id": "bEzsxdGVkDTT",
        "colab_type": "text"
      },
      "source": [
        "##Plotando e Analisando Gráficos de Notas Medias de Filmes com Pandas\n",
        "\n",
        "Vamos relembrar alguns pontos que já discutimos e nos aprofundar nas análises de notas para tirar conclusões mais sofisticadas. Na Aula1 calculamos as notas médias por filmes, vamos chamar aqui e dar uma olhada no resultado.\n"
      ]
    },
    {
      "cell_type": "code",
      "metadata": {
        "id": "lxF71nqui3pZ",
        "colab_type": "code",
        "colab": {}
      },
      "source": [
        "avaliacoes = pd.read_csv(\"https://github.com/alura-cursos/introducao-a-data-science/blob/master/aula0/ml-latest-small/ratings.csv?raw=true\")\n",
        "avaliacoes.columns = [\"usuarioId\", \"filmeId\", \"nota\", \"momento\"]\n",
        "notas_medias_por_filme = avaliacoes.groupby(\"filmeId\")[\"nota\"].mean()\n",
        "filmes_com_media = filmes.join(notas_medias_por_filme, on=\"filmeId\")\n",
        "filmes_com_media = filmes_com_media.rename(columns={'nota': 'nota_media'})\n",
        "filmes_com_media.head()"
      ],
      "execution_count": 0,
      "outputs": []
    },
    {
      "cell_type": "markdown",
      "metadata": {
        "id": "-wHdoK_0jwfX",
        "colab_type": "text"
      },
      "source": [
        "Como vimos, olhar apenas as médias pode ser um problema e para interpretar um pouco melhor os dados usamos o histograma das notas para comparar alguns filmes. Por exemplo, Toy Story e Jumanji:"
      ]
    },
    {
      "cell_type": "code",
      "metadata": {
        "id": "5QAThOlHklN7",
        "colab_type": "code",
        "outputId": "8729576e-7de2-494c-83b0-c88a2f5fc215",
        "colab": {
          "base_uri": "https://localhost:8080/",
          "height": 281
        }
      },
      "source": [
        "#No eixo x está o tipo de notas e o eixo y está numero de ocorrencias desse tipo de nota\n",
        "notas_do_filme1 = avaliacoes.query(\"filmeId==1\")[\"nota\"].plot(kind='hist', title='Notas de Toy Story')\n"
      ],
      "execution_count": 0,
      "outputs": [
        {
          "output_type": "display_data",
          "data": {
            "image/png": "[encoded data removed]",
            "text/plain": [
              "<Figure size 432x288 with 1 Axes>"
            ]
          },
          "metadata": {
            "tags": []
          }
        }
      ]
    },
    {
      "cell_type": "code",
      "metadata": {
        "id": "OmARsDqzl2vj",
        "colab_type": "code",
        "colab": {}
      },
      "source": [
        "notas_do_filme2 = avaliacoes.query(\"filmeId==2\")[\"nota\"].plot(kind='hist', title='Notas de Jumanji')\n"
      ],
      "execution_count": 0,
      "outputs": []
    },
    {
      "cell_type": "markdown",
      "metadata": {
        "id": "7xYzNkIll-zr",
        "colab_type": "text"
      },
      "source": [
        "\n",
        "Observamos que:\n",
        "* ToyStory e Jumanji tem **médias relativamente próximas** mas com **comportamento de notas diferentes**. \n",
        "* Então, para nosso exemplo, as médias ajudam mas esconde informações importântes sobre os dados.\n",
        "\n",
        "Isso acontece porque olhamos apenas para as médias das notas mas conseguimos evidênciar a desigualdade de distribuição que havia entre as notas.\n",
        "\n",
        "Outras métrica que pode nos ajudar a interpretar melhor os dados são os quatis, principalmente a _mediana_."
      ]
    },
    {
      "cell_type": "markdown",
      "metadata": {
        "id": "X4vuiFtAnySX",
        "colab_type": "text"
      },
      "source": [
        "Vamos buscar dois filmes com médias muito mais próximas que Toy Story e Jumanji, para analisar outras métricas além das médias:"
      ]
    },
    {
      "cell_type": "code",
      "metadata": {
        "id": "dFwMKwQ4n6Ea",
        "colab_type": "code",
        "colab": {}
      },
      "source": [
        "filmes_com_media.sort_values(\"nota_media\", ascending=False)[2490:2500]"
      ],
      "execution_count": 0,
      "outputs": []
    },
    {
      "cell_type": "markdown",
      "metadata": {
        "id": "Y4waQCMIoNL_",
        "colab_type": "text"
      },
      "source": [
        "Bom, ordenando os filmes pela **nota média e fatiando os dados** entre [2490 e 2500], temos uma região onde as médias são semelhates e provavelmente não tem apenas um único voto. Vamos comparar o fime Wizard of Oz (filmeId = 919) e Little Miss Sunshine (filmeId = 46578).\n",
        "\n",
        "Para não precisar copiar e colar toda hora o plot dos gráficos vamos criar nossa primeira _função_, assim passamos apenas o filme_Id como parâmetro e temos as informações desejadas. A função plot, além de gerar o histograma também retornará algumas estatísticas. \n",
        "\n"
      ]
    },
    {
      "cell_type": "code",
      "metadata": {
        "id": "s2GyKGjWojta",
        "colab_type": "code",
        "colab": {}
      },
      "source": [
        "def plot_filme(filme_id):\n",
        "  notas_do_filme = avaliacoes.query(\"filmeId=={}\" .format(filme_id))[\"nota\"]\n",
        "  notas_do_filme.plot(kind='hist')\n",
        "  return notas_do_filme.describe().round(2)"
      ],
      "execution_count": 0,
      "outputs": []
    },
    {
      "cell_type": "code",
      "metadata": {
        "id": "gzc7OiUbqMvN",
        "colab_type": "code",
        "colab": {}
      },
      "source": [
        "#Agora chamemos a função pra Wizard of Oz\n",
        "plot_filme(919)"
      ],
      "execution_count": 0,
      "outputs": []
    },
    {
      "cell_type": "code",
      "metadata": {
        "id": "3VC5GMsPq5ZT",
        "colab_type": "code",
        "colab": {}
      },
      "source": [
        "#Agora chamemos a função pra Little Miss Sunshine\n",
        "plot_filme(46578)"
      ],
      "execution_count": 0,
      "outputs": []
    },
    {
      "cell_type": "markdown",
      "metadata": {
        "id": "Wj3EFaz6rydm",
        "colab_type": "text"
      },
      "source": [
        "Ótimo, agora com essas informações conseguimos comparar melhor ambos os filmes: \n",
        "* Analisando os histogramas vemos que muitas pessoas realmente amam Wizard of Oz (notas 5), mas também temos pessoas que não gostam de formal alguma do filme (notas 1). \n",
        "* Quando comparamos com a histograma de Little Miss Sunshine, percebemos que os resultados se concentram entrem valores medianos (notas 2.5 - 4).\n",
        "\n",
        "O que confirma nossa análise aqui é comparar os 25%, 50% e 75%:\n",
        "* 50% é o valor da mediana, e ambos filmes tem mesma mediana.\n",
        "* 25% e 75% são diferentes. Se você lembra lá da estatística esses são os 1° 2° e 3° quartis.\n"
      ]
    },
    {
      "cell_type": "markdown",
      "metadata": {
        "id": "8yYaJ13YuzID",
        "colab_type": "text"
      },
      "source": [
        "##Plotando Graficos com Boxplot no Pandas e Analisando \n",
        "\n",
        "Mesclar os gráficos com as estatísticas ajuda a interpretar melhor os dados, mas o que precisamos é uma imagem que nos ajude a interpretar os dados ainda melhor que o histograma, o gráfico que nos ajuda neste caso é o Boxplot. Vamos adaptar nossa função para conseguir plotar o **boxplot** e interpretá-lo.\n"
      ]
    },
    {
      "cell_type": "code",
      "metadata": {
        "id": "0EUdBBEbtvCn",
        "colab_type": "code",
        "colab": {}
      },
      "source": [
        "def plot2_filme(filme_id):\n",
        "  notas_do_filme = avaliacoes.query(\"filmeId=={}\" .format(filme_id))[\"nota\"]\n",
        "  notas_do_filme.plot.box()\n",
        "  return notas_do_filme.describe()"
      ],
      "execution_count": 0,
      "outputs": []
    },
    {
      "cell_type": "code",
      "metadata": {
        "id": "bcOQb3YwtoAv",
        "colab_type": "code",
        "colab": {}
      },
      "source": [
        "#Chamemos a função de boxplot pra Wizard of Oz\n",
        "plot2_filme(919)"
      ],
      "execution_count": 0,
      "outputs": []
    },
    {
      "cell_type": "markdown",
      "metadata": {
        "id": "zZMlb951u_x5",
        "colab_type": "text"
      },
      "source": [
        "É simples criar criar um boxplot com o pandas, agora o que precisamos fazer é interpretar este gráfico focando na \"caixa\":\n",
        "* A linha verde que divide a \"caixa\" em dois, é a mediana (compare com as estatísticas geradas pelo describe()). \n",
        "* A parte superior da caixa é o 3° Quartil (75%). \n",
        "* A parte inferior é o 1° Quartil (25%).\n",
        "\n",
        "Agora repare nos limites inferior e superior, represetados pelas extremidades em preto. Por coincidência, nesta imagem os limites inferior e superior são equivalentes ao **ponto de máximo e mínimo, mas nem sempre será assim**. Isso acontece porque esse limite inferior e superior são calculados e dependem de Q1 e Q3, respectivamente. Algumas vezes os limites podem sobrepor os extremos das \"caixas\" e isso geralmente ocorre quando temos uma quantidade pequena de dados.\n",
        "\n",
        "Como tivemos sobreposição do limite superior vamos calcular o boxplot de outro filme, para analisar o resultado.\n"
      ]
    },
    {
      "cell_type": "code",
      "metadata": {
        "id": "f0PVhxe4yCiz",
        "colab_type": "code",
        "colab": {}
      },
      "source": [
        "plot2_filme(46578)"
      ],
      "execution_count": 0,
      "outputs": []
    },
    {
      "cell_type": "markdown",
      "metadata": {
        "id": "qPFuPZxt001T",
        "colab_type": "text"
      },
      "source": [
        "Diferente do primeiro boxplot, neste os limites superiores não se sobrepõe e temos uma informação a mais, no caso é essa bolinha localizada em y = 1. A \"bolinha\" chamamos de valor **discrepante**, por ir além dos limites inferior e superior (chamamos na aula de outliers, existem várias formas de calcular os outliers, mas no nosso caso esses são os outliers do boxplot)."
      ]
    },
    {
      "cell_type": "markdown",
      "metadata": {
        "id": "cJZ6vMa21C2t",
        "colab_type": "text"
      },
      "source": [
        "Agora, comparando os boxplot dos dois filmes, fica muito mais evidente as diferenças entre eles, o que ficava complexo olhando só médias e outras informações separadas.\n",
        "\n",
        "Embora melhoramos muito nossa qualidade de análise ainda temos mais um ponto: Estamos comparando os boxplot dos filmes, mas eles estão em imagens separadas. \n",
        "\n",
        "Vamos juntas esses dois boxplot em uma imagem só. Veja como podemos fazer isso usando o **Seaborn**, para aprendermos outra forma de plotar boxplot!"
      ]
    },
    {
      "cell_type": "code",
      "metadata": {
        "id": "35j72DhK2GhR",
        "colab_type": "code",
        "outputId": "ec9cb5c8-c11e-4b9f-c214-ef379c664c74",
        "colab": {
          "base_uri": "https://localhost:8080/",
          "height": 297
        }
      },
      "source": [
        "sns.boxplot(data = avaliacoes.query(\"filmeId in [919,46578]\"), x =\"filmeId\", y=\"nota\")"
      ],
      "execution_count": 0,
      "outputs": [
        {
          "output_type": "execute_result",
          "data": {
            "text/plain": [
              "<matplotlib.axes._subplots.AxesSubplot at 0x7f43e60f0080>"
            ]
          },
          "metadata": {
            "tags": []
          },
          "execution_count": 67
        },
        {
          "output_type": "display_data",
          "data": {
            "image/png": "[encoded data removed]",
            "text/plain": [
              "<Figure size 432x288 with 1 Axes>"
            ]
          },
          "metadata": {
            "tags": []
          }
        }
      ]
    },
    {
      "cell_type": "markdown",
      "metadata": {
        "id": "fnOAAK412oLv",
        "colab_type": "text"
      },
      "source": [
        "Chamamos o metodo acima passando três parâmetros: \n",
        "* O primeiro é um DataFrame das notas dos filmes Wizard of Oz e Little Miss Sunshine (tambem usamos o .query() para selecionar os dados). \n",
        "* X é o Id do filme. \n",
        "* Y as respectivas notas. \n",
        "\n",
        "Agora conseguimos comparar as notas dos filmes de forma muito mais clara."
      ]
    },
    {
      "cell_type": "markdown",
      "metadata": {
        "id": "l4J-e2Yi3Sxt",
        "colab_type": "text"
      },
      "source": [
        "###Desafio 1\n",
        "Rotacionar os thicks (nesse caso, os nomes dos generos) para a vertical no gráfico de barras verdes (o último), de forma a deixar as legendas mais legíveis."
      ]
    },
    {
      "cell_type": "code",
      "metadata": {
        "id": "qKbsmeOV3kQQ",
        "colab_type": "code",
        "colab": {}
      },
      "source": [
        "sns.set_style(\"whitegrid\")\n",
        "filmes_por_genero = filmes[\"generos\"].str.get_dummies('|').sum().sort_values(ascending=False)\n",
        "plt.figure(figsize=(17,8))\n",
        "sns.barplot(x=filmes_por_genero.index,\n",
        "            y=filmes_por_genero.values,\n",
        "            palette=sns.color_palette(\"BuGn_r\", n_colors=len(filmes_por_genero) + 4))\n",
        "#Metodo para rotacionar o ticks\n",
        "plt.xticks(rotation=45)\n",
        "plt.show()"
      ],
      "execution_count": 0,
      "outputs": []
    },
    {
      "cell_type": "markdown",
      "metadata": {
        "id": "wVD26N0z3kiA",
        "colab_type": "text"
      },
      "source": [
        "###Desafio 2\n",
        "Encontrar vários filmes com médias próximas e distribuições diferentes, use a função plot_filmes(filme_id) para plotar."
      ]
    },
    {
      "cell_type": "code",
      "metadata": {
        "id": "DcUag1Oe33Ul",
        "colab_type": "code",
        "colab": {}
      },
      "source": [
        "plot_filme(924) # 2001: A Space Odyssey (1968)"
      ],
      "execution_count": 0,
      "outputs": []
    },
    {
      "cell_type": "code",
      "metadata": {
        "id": "o9y4Dris98ot",
        "colab_type": "code",
        "colab": {}
      },
      "source": [
        "plot_filme(55820) # No Country for Old Men (2007)"
      ],
      "execution_count": 0,
      "outputs": []
    },
    {
      "cell_type": "code",
      "metadata": {
        "id": "_x_SK41B9_Xa",
        "colab_type": "code",
        "colab": {}
      },
      "source": [
        "plot_filme(2150) # Gods Must Be Crazy, The (1980)"
      ],
      "execution_count": 0,
      "outputs": []
    },
    {
      "cell_type": "markdown",
      "metadata": {
        "id": "At9LoixS5G11",
        "colab_type": "text"
      },
      "source": [
        "###Desafio 3\n",
        "\n",
        "Criar o boxplot dos 10 filmes com mais votos (contados). Não apenas plot mas também analise e tente tirar conclusões."
      ]
    },
    {
      "cell_type": "code",
      "metadata": {
        "id": "nEtC8BNh6QMn",
        "colab_type": "code",
        "colab": {}
      },
      "source": [
        "#Gerando o dataframe com a coluna total de votos\n",
        "total_votos_por_filme = avaliacoes.groupby('filmeId')['nota'].count()\n",
        "filmes_com_media_e_votos = filmes_com_media.join(total_votos_por_filme, on='filmeId')\n",
        "filmes_com_media_e_votos = filmes_com_media_e_votos.rename(columns={'nota': 'total_votos'})\n",
        "#Fazendo o top 10 e separando os titulos e ids\n",
        "top_10_votos_por_filme = filmes_com_media_e_votos.sort_values(by='total_votos', ascending=False).head(10)\n",
        "top_10_votos_por_filme_titulo = top_10_votos_por_filme['titulo'].to_list()\n",
        "top_10_votos_por_filme_id = top_10_votos_por_filme['filmeId'].to_list()\n",
        "#Escolhendo o tamanho do plot\n",
        "plt.figure(figsize=(18, 8))\n",
        "#Plotando o grafico boxplot com base nos id\n",
        "ax = sns.boxplot(data = avaliacoes.query(\"filmeId in {}\" .format(top_10_votos_por_filme_id)), x = 'filmeId', y = 'nota')\n",
        "#Substituito o numero do id no eixo x pelo titulo dos filmes\n",
        "ax.set_xticklabels(top_10_votos_por_filme_titulo, fontsize=12)\n",
        "#Rotacionando os titulos\n",
        "plt.xticks(rotation=90)\n",
        "#Mundando o nome dos eixos x e y\n",
        "ax.set_xlabel(\"Filme\", fontsize=16)\n",
        "ax.set_ylabel(\"Nota\", fontsize=16)\n",
        "\n",
        "plt.show()"
      ],
      "execution_count": 0,
      "outputs": []
    },
    {
      "cell_type": "markdown",
      "metadata": {
        "id": "TdU7S6MC6QbJ",
        "colab_type": "text"
      },
      "source": [
        "###Desafio 4\n",
        "\n",
        "Configurar a visualização do boxplot gerado pelo Seaborn (último boxplot plotado na aula). Configurar o tamanho e colocar o nome dos filmes nos thicks."
      ]
    },
    {
      "cell_type": "code",
      "metadata": {
        "id": "aCyrrfdJ6jRM",
        "colab_type": "code",
        "outputId": "2bc76629-aca1-4298-c074-e646a47cf52a",
        "colab": {
          "base_uri": "https://localhost:8080/",
          "height": 396
        }
      },
      "source": [
        "plt.figure(figsize=(12, 6))\n",
        "\n",
        "ax = sns.boxplot(data = avaliacoes.query(\"filmeId in [919,46578]\"), x=\"filmeId\", y=\"nota\")\n",
        "\n",
        "ax.set_xticklabels(filmes.query(\"filmeId in [919,46578]\")['titulo'], fontsize=12)\n",
        "ax.set_xlabel(\"Filme\", fontsize=16)\n",
        "ax.set_ylabel(\"Nota\", fontsize=16)\n",
        "plt.show()"
      ],
      "execution_count": 0,
      "outputs": [
        {
          "output_type": "display_data",
          "data": {
            "image/png": "[encoded data removed]",
            "text/plain": [
              "<Figure size 864x432 with 1 Axes>"
            ]
          },
          "metadata": {
            "tags": []
          }
        }
      ]
    },
    {
      "cell_type": "markdown",
      "metadata": {
        "id": "JStdH83T6jjc",
        "colab_type": "text"
      },
      "source": [
        "###Desafio 5\n",
        "\n",
        "Calcular moda, média e mediana dos filmes. Explore filmes com notas mais próximas de 0.5, 3 e 5."
      ]
    },
    {
      "cell_type": "code",
      "metadata": {
        "id": "Mnbw13h_6pBv",
        "colab_type": "code",
        "colab": {}
      },
      "source": [
        "def explora_filme(filme_id):\n",
        "    filme = filmes.query('filmeId == {}' .format(filme_id))\n",
        "    notas = avaliacoes.query('filmeId == {}' .format(filme_id))['nota']\n",
        "    \n",
        "    print('Filme: {}' .format(filme.iloc[0, 1]))\n",
        "    print()\n",
        "    print('Moda: {}' .format(notas.mode().values))    \n",
        "    print('Média: {}' .format(notas.mean()))\n",
        "    print('Mediana: {}' .format(notas.median()))\n",
        "    print('------------')"
      ],
      "execution_count": 0,
      "outputs": []
    },
    {
      "cell_type": "code",
      "metadata": {
        "id": "viRH7o3ZEMks",
        "colab_type": "code",
        "colab": {}
      },
      "source": [
        "#Notas proximas de 0.5\n",
        "explora_filme(8387)\n",
        "explora_filme(89386)\n",
        "explora_filme(3774)"
      ],
      "execution_count": 0,
      "outputs": []
    },
    {
      "cell_type": "code",
      "metadata": {
        "id": "xyqb1V9XESfs",
        "colab_type": "code",
        "colab": {}
      },
      "source": [
        "#Notas proximas de 3\n",
        "explora_filme(2041)\n",
        "explora_filme(7541)\n",
        "explora_filme(160080)"
      ],
      "execution_count": 0,
      "outputs": []
    },
    {
      "cell_type": "code",
      "metadata": {
        "id": "Z5K_g7bFEVU5",
        "colab_type": "code",
        "colab": {}
      },
      "source": [
        "#Notas proximas de 5\n",
        "explora_filme(177593)\n",
        "explora_filme(1178)\n",
        "explora_filme(4334)"
      ],
      "execution_count": 0,
      "outputs": []
    },
    {
      "cell_type": "markdown",
      "metadata": {
        "id": "L1XXVnwj6pLC",
        "colab_type": "text"
      },
      "source": [
        "###Desafio 6\n",
        "\n",
        "Plotar o boxplot e o histograma um do lado do outro (na mesma figura ou em figuras distintas, mas um do lado do outro)."
      ]
    },
    {
      "cell_type": "code",
      "metadata": {
        "id": "0mNSJxp96u6E",
        "colab_type": "code",
        "colab": {}
      },
      "source": [
        "pulp_fiction = avaliacoes.query('filmeId == 296')['nota']\n",
        "\n",
        "f, axes = plt.subplots(1, 2, figsize=(16, 6))\n",
        "\n",
        "pulp_fiction.plot(kind='hist', ax = axes[0])\n",
        "pulp_fiction.plot(kind='box', ax = axes[1])\n",
        "\n",
        "plt.show()"
      ],
      "execution_count": 0,
      "outputs": []
    },
    {
      "cell_type": "markdown",
      "metadata": {
        "id": "516N6s4R6vMD",
        "colab_type": "text"
      },
      "source": [
        "###Desafio 7\n",
        "\n",
        "Criar um gráfico de notas médias por ano (média geral considerando todos os filmes lançados naquele ano)."
      ]
    },
    {
      "cell_type": "code",
      "metadata": {
        "id": "a5ghyGBa618B",
        "colab_type": "code",
        "colab": {}
      },
      "source": [
        "filmes_com_media_e_ano = filmes_com_media.copy()\n",
        "filmes_com_media_e_ano['ano'] = filmes_com_media['titulo'].str.extract(\"\\((\\d{4})\\)\")\n",
        "filmes_com_media_e_ano.head()"
      ],
      "execution_count": 0,
      "outputs": []
    },
    {
      "cell_type": "code",
      "metadata": {
        "id": "UARQpwvKFVH3",
        "colab_type": "code",
        "colab": {}
      },
      "source": [
        "nota_media_por_ano = filmes_com_media_e_ano.groupby('ano')['nota_media'].mean()\n",
        "\n",
        "plt.figure(figsize=(18, 8))\n",
        "nota_media_por_ano.plot()"
      ],
      "execution_count": 0,
      "outputs": []
    }
  ]
}