{
  "nbformat": 4,
  "nbformat_minor": 0,
  "metadata": {
    "colab": {
      "name": "QuarentenaDados - Aula3.ipynb",
      "provenance": [],
      "collapsed_sections": []
    },
    "kernelspec": {
      "name": "python3",
      "display_name": "Python 3"
    }
  },
  "cells": [
    {
      "cell_type": "markdown",
      "metadata": {
        "id": "c9pBOpagzcqB",
        "colab_type": "text"
      },
      "source": [
        "#Aula 3: Correlações e Exploração de Dados\n",
        "##Introdução\n",
        "\n",
        "Nessa aula utilizaremos uma base totalmente nova, que nós também não conhecíamos até o momento da análise. Você vai acompanhar a exploração e, principalmente, as dificuldades ao analisar uma base de dados desconhecida.\n",
        "\n",
        "Nessa aula iremos trabalhar com a **IMBD 5000**, base que contém uma série de informações sobre filmes, sendo uma pequena amostra da famosa base de dados IMBD."
      ]
    },
    {
      "cell_type": "code",
      "metadata": {
        "id": "SfCntWiv02ZY",
        "colab_type": "code",
        "colab": {}
      },
      "source": [
        "#Vamos começar importando a nossa base de dados! \n",
        "import pandas as pd\n",
        "imdb = pd.read_csv(\"https://gist.githubusercontent.com/guilhermesilveira/24e271e68afe8fd257911217b88b2e07/raw/e70287fb1dcaad4215c3f3c9deda644058a616bc/movie_metadata.csv\")\n",
        "imdb.head()"
      ],
      "execution_count": 0,
      "outputs": []
    },
    {
      "cell_type": "markdown",
      "metadata": {
        "id": "niWWApdn08Pe",
        "colab_type": "text"
      },
      "source": [
        "##Analisando a coluna Color\n",
        "\n",
        "Uma coluna que chamou à atenção na análise foi a de \"color\". Vamos conhecer quais valores temos nesta colunas?!"
      ]
    },
    {
      "cell_type": "code",
      "metadata": {
        "id": "EAyfY9JJ4VNs",
        "colab_type": "code",
        "outputId": "549c0d19-ca99-42d8-f4e3-757fb01edeef",
        "colab": {
          "base_uri": "https://localhost:8080/",
          "height": 35
        }
      },
      "source": [
        "imdb[\"color\"].unique()"
      ],
      "execution_count": 0,
      "outputs": [
        {
          "output_type": "execute_result",
          "data": {
            "text/plain": [
              "array(['Color', nan, ' Black and White'], dtype=object)"
            ]
          },
          "metadata": {
            "tags": []
          },
          "execution_count": 3
        }
      ]
    },
    {
      "cell_type": "markdown",
      "metadata": {
        "id": "IWTnreit4lrB",
        "colab_type": "text"
      },
      "source": [
        "Verificamos que essa coluna \"color\" informa se o filme é colorido ou é preto e branco. \n",
        "\n",
        "Vamos descobrir agora quantos filmes de cada tipo nós temos:"
      ]
    },
    {
      "cell_type": "code",
      "metadata": {
        "id": "ur8dMnjQ5Lec",
        "colab_type": "code",
        "outputId": "c0d10c52-b169-4b75-f754-1a827c2e02dc",
        "colab": {
          "base_uri": "https://localhost:8080/",
          "height": 72
        }
      },
      "source": [
        "#Com o metodo abaixo descobrimos quantos filmes 'coloridos' e 'preto e branco' temos, também sabemos que há mais de 5000 filmes na base.\n",
        "imdb[\"color\"].value_counts()"
      ],
      "execution_count": 0,
      "outputs": [
        {
          "output_type": "execute_result",
          "data": {
            "text/plain": [
              "Color               4815\n",
              " Black and White     209\n",
              "Name: color, dtype: int64"
            ]
          },
          "metadata": {
            "tags": []
          },
          "execution_count": 4
        }
      ]
    },
    {
      "cell_type": "code",
      "metadata": {
        "id": "8aymp3Yf5rne",
        "colab_type": "code",
        "outputId": "3c75953d-3015-4404-cfd6-6c0b4cf2c5c0",
        "colab": {
          "base_uri": "https://localhost:8080/",
          "height": 72
        }
      },
      "source": [
        "#Quando passamos o parametro normalize como True, calculamos a participação percentual de cada um dos tipos de filme.\n",
        "#Ex: 0,96 é o mesmo que dizer 96% dos filmes são coloridos\n",
        "imdb[\"color\"].value_counts(normalize=True).round(2)"
      ],
      "execution_count": 0,
      "outputs": [
        {
          "output_type": "execute_result",
          "data": {
            "text/plain": [
              "Color               0.96\n",
              " Black and White    0.04\n",
              "Name: color, dtype: float64"
            ]
          },
          "metadata": {
            "tags": []
          },
          "execution_count": 5
        }
      ]
    },
    {
      "cell_type": "markdown",
      "metadata": {
        "id": "OT-VdWV36mcZ",
        "colab_type": "text"
      },
      "source": [
        "##Analisando a coluna Diretores\n",
        "\n",
        "Agora vamos explorar outra coluna a fim de conhecer os diretores que tem mais filmes na nossa base de dados (lembrando que nossa base é uma amostra muito pequena da realidade)."
      ]
    },
    {
      "cell_type": "code",
      "metadata": {
        "id": "3VuWsSFA6ynv",
        "colab_type": "code",
        "outputId": "a51b61ca-12c1-4664-f503-0964e3e182f0",
        "colab": {
          "base_uri": "https://localhost:8080/",
          "height": 237
        }
      },
      "source": [
        "imdb[\"director_name\"].value_counts()"
      ],
      "execution_count": 0,
      "outputs": [
        {
          "output_type": "execute_result",
          "data": {
            "text/plain": [
              "Steven Spielberg    26\n",
              "Woody Allen         22\n",
              "Martin Scorsese     20\n",
              "Clint Eastwood      20\n",
              "Ridley Scott        17\n",
              "                    ..\n",
              "Ricky Gervais        1\n",
              "Rick Bieber          1\n",
              "Ronald Neame         1\n",
              "Gary Sinyor          1\n",
              "Kaige Chen           1\n",
              "Name: director_name, Length: 2398, dtype: int64"
            ]
          },
          "metadata": {
            "tags": []
          },
          "execution_count": 6
        }
      ]
    },
    {
      "cell_type": "markdown",
      "metadata": {
        "id": "PKZ3njk17PoL",
        "colab_type": "text"
      },
      "source": [
        "Concluimos que _Steven Spielberg_ e _Woody Allen_ são os diretores com mais filmes no IMDB 5000."
      ]
    },
    {
      "cell_type": "markdown",
      "metadata": {
        "id": "CKWz1uix7VLw",
        "colab_type": "text"
      },
      "source": [
        "##Analisando a quantidade de Críticas\n",
        "\n",
        "Continuando com nossa exploração de algumas informações, vamos olhar para o número de críticas por filmes."
      ]
    },
    {
      "cell_type": "code",
      "metadata": {
        "id": "XEiWtKov7ma2",
        "colab_type": "code",
        "outputId": "861eb214-2b70-47a1-9b43-75cc9d7b6060",
        "colab": {
          "base_uri": "https://localhost:8080/",
          "height": 237
        }
      },
      "source": [
        "imdb[\"num_critic_for_reviews\"]\n"
      ],
      "execution_count": 0,
      "outputs": [
        {
          "output_type": "execute_result",
          "data": {
            "text/plain": [
              "0       723.0\n",
              "1       302.0\n",
              "2       602.0\n",
              "3       813.0\n",
              "4         NaN\n",
              "        ...  \n",
              "5038      1.0\n",
              "5039     43.0\n",
              "5040     13.0\n",
              "5041     14.0\n",
              "5042     43.0\n",
              "Name: num_critic_for_reviews, Length: 5043, dtype: float64"
            ]
          },
          "metadata": {
            "tags": []
          },
          "execution_count": 7
        }
      ]
    },
    {
      "cell_type": "code",
      "metadata": {
        "id": "vf6hhDoN-Cl-",
        "colab_type": "code",
        "outputId": "5b5991b6-b7ce-4a24-f193-74abb8bae5ef",
        "colab": {
          "base_uri": "https://localhost:8080/",
          "height": 182
        }
      },
      "source": [
        "imdb[\"num_critic_for_reviews\"].describe().round(2)"
      ],
      "execution_count": 0,
      "outputs": [
        {
          "output_type": "execute_result",
          "data": {
            "text/plain": [
              "count    4993.00\n",
              "mean      140.19\n",
              "std       121.60\n",
              "min         1.00\n",
              "25%        50.00\n",
              "50%       110.00\n",
              "75%       195.00\n",
              "max       813.00\n",
              "Name: num_critic_for_reviews, dtype: float64"
            ]
          },
          "metadata": {
            "tags": []
          },
          "execution_count": 8
        }
      ]
    },
    {
      "cell_type": "markdown",
      "metadata": {
        "id": "1DKAME5V-YzW",
        "colab_type": "text"
      },
      "source": [
        "Veja que as colunas **color e director_name** são strings, não fazendo sentido olhar para médias, medianas e afins. \n",
        "\n",
        "Olhar para o **número de criticas** já pode ser interessante, por isso usamos o .describe(). Agora podemos até plotar um histograma para avaliar o número de review."
      ]
    },
    {
      "cell_type": "code",
      "metadata": {
        "id": "TPkBnX5XCsSf",
        "colab_type": "code",
        "outputId": "53df468d-0d08-405f-b60d-98aec45bbc6b",
        "colab": {
          "base_uri": "https://localhost:8080/",
          "height": 340
        }
      },
      "source": [
        "#Pltando um grafico em histograma para número de criticas com biblioteca seaborn\n",
        "import seaborn as sns\n",
        "sns.set_style(\"whitegrid\")\n",
        "imdb[\"num_critic_for_reviews\"].plot(kind='hist')"
      ],
      "execution_count": 0,
      "outputs": [
        {
          "output_type": "stream",
          "text": [
            "/usr/local/lib/python3.6/dist-packages/statsmodels/tools/_testing.py:19: FutureWarning: pandas.util.testing is deprecated. Use the functions in the public API at pandas.testing instead.\n",
            "  import pandas.util.testing as tm\n"
          ],
          "name": "stderr"
        },
        {
          "output_type": "execute_result",
          "data": {
            "text/plain": [
              "<matplotlib.axes._subplots.AxesSubplot at 0x7fb73e829f98>"
            ]
          },
          "metadata": {
            "tags": []
          },
          "execution_count": 9
        },
        {
          "output_type": "display_data",
          "data": {
            "image/png": "[encoded data removed]",
            "text/plain": [
              "<Figure size 432x288 with 1 Axes>"
            ]
          },
          "metadata": {
            "tags": []
          }
        }
      ]
    },
    {
      "cell_type": "markdown",
      "metadata": {
        "id": "RiVGfmYoFsPh",
        "colab_type": "text"
      },
      "source": [
        "Verificamos que **poucos filmes tem mais de 500 votos**, como visto o eixo y, por isso um paralelo que podemos fazer é que: \n",
        "* Filmes com muitos votos são mais populares. \n",
        "* Filmes com poucos votos não são tão populares. \n",
        "\n",
        "Logo, pelo histograma fica evidente que poucos filmes fazem muito muito sucesso. \n",
        "\n",
        "Claro que não conseguimos afirmar isso com propriedade, pois, novamente, estamos lidando com um número restrito de dados, mas são pontos interessantes de se pensar."
      ]
    },
    {
      "cell_type": "markdown",
      "metadata": {
        "id": "wOfEjg9RGJic",
        "colab_type": "text"
      },
      "source": [
        "##Analisando a coluna orçamentos e receitas de Filmes\n",
        "\n",
        "Outra informação interessante de se analisar, são os orçamentos e receitas de um filme, ou seja o aspecto financeiro. Vamos começar pelo gross:"
      ]
    },
    {
      "cell_type": "code",
      "metadata": {
        "id": "w0fPzf1hHMVk",
        "colab_type": "code",
        "outputId": "6968234d-c877-412a-de25-4299b77320b8",
        "colab": {
          "base_uri": "https://localhost:8080/",
          "height": 300
        }
      },
      "source": [
        "imdb[\"gross\"].hist()"
      ],
      "execution_count": 0,
      "outputs": [
        {
          "output_type": "execute_result",
          "data": {
            "text/plain": [
              "<matplotlib.axes._subplots.AxesSubplot at 0x7fb73e77bfd0>"
            ]
          },
          "metadata": {
            "tags": []
          },
          "execution_count": 10
        },
        {
          "output_type": "display_data",
          "data": {
            "image/png": "[encoded data removed]",
            "text/plain": [
              "<Figure size 432x288 with 1 Axes>"
            ]
          },
          "metadata": {
            "tags": []
          }
        }
      ]
    },
    {
      "cell_type": "markdown",
      "metadata": {
        "id": "iijUePgwNcXW",
        "colab_type": "text"
      },
      "source": [
        "Como você deve ter reparado, essa é a primeira vez que as escalas estão totalmente diferentes, pois no eixo X (receita) temos valores tão altos que a escala teve que ser de centena de milhões. Veja como pouquíssimos filmes tem alto faturamento, o que nos acende um primeiro alerta de que tem algo estranho (ou temos filmes que rendem muito dinheiro neste dataset).\n",
        "\n",
        "Vamos tentar conhecer quais são esses filmes com faturamento astronômico.\n"
      ]
    },
    {
      "cell_type": "code",
      "metadata": {
        "id": "A0Re7iemKgpC",
        "colab_type": "code",
        "outputId": "6b903a4d-a6aa-4823-dec7-070db6f60b6e",
        "colab": {
          "base_uri": "https://localhost:8080/",
          "height": 219
        }
      },
      "source": [
        "#Buscando os 10 filmes com maior faturamento\n",
        "imdb.sort_values(\"gross\", ascending=False)[\"movie_title\"].head(10)"
      ],
      "execution_count": 0,
      "outputs": [
        {
          "output_type": "execute_result",
          "data": {
            "text/plain": [
              "0                                          Avatar \n",
              "26                                        Titanic \n",
              "29                                 Jurassic World \n",
              "794                                  The Avengers \n",
              "17                                   The Avengers \n",
              "66                                The Dark Knight \n",
              "240     Star Wars: Episode I - The Phantom Menace \n",
              "3024           Star Wars: Episode IV - A New Hope \n",
              "8                         Avengers: Age of Ultron \n",
              "3                           The Dark Knight Rises \n",
              "Name: movie_title, dtype: object"
            ]
          },
          "metadata": {
            "tags": []
          },
          "execution_count": 11
        }
      ]
    },
    {
      "cell_type": "markdown",
      "metadata": {
        "id": "40LZW_zqNvyx",
        "colab_type": "text"
      },
      "source": [
        "Nessa lista temos: **Avatar, Titanic, Jurassic World e The Avengers** e sabemos que esses filmes tiveram bilheterias gigantescas. \n",
        "\n",
        "Analisando esses dados conseguimos verificar que os maiores faturamentos fazem sentido, mas encontramos um problema nos dados: dados que encontramos duas linhas diplicadas. Podemos usar o pandas para remover esses dados, mas por enquanto vamos manter todas as informações (Se estiver curioso em saber como se faz, consulte o .drop_duplicates()).\n",
        "\n",
        "Agora temos o faturamento e parece estar OK. Queremos começar a responder algumas perguntas e uma delas é: \n",
        "* Será que filmes coloridos tem faturamento maior que filmes preto e branco?\n",
        "\n"
      ]
    },
    {
      "cell_type": "markdown",
      "metadata": {
        "id": "9TpCgdhCVSJJ",
        "colab_type": "text"
      },
      "source": [
        "##Transformando a coluna color \n",
        "Para começar a responder essa pergunta precisamos transformar a coluna Color:"
      ]
    },
    {
      "cell_type": "code",
      "metadata": {
        "id": "MA1vZnOKPmA8",
        "colab_type": "code",
        "outputId": "a37b5bff-afcd-4577-a303-59a45ab602fe",
        "colab": {
          "base_uri": "https://localhost:8080/",
          "height": 182
        }
      },
      "source": [
        "#Solicita as linhas que so tenham dados com \"Color\" e \"BW\" na coluna color\n",
        "color_or_bw = imdb.query(\"color in ['Color', ' Black and White']\")\n",
        "#Variavel para armazenar como valores de 0 ou 1. 0 para BW e 1 para color\n",
        "#Tambem adicionamos uma nova coluna ao data frame\n",
        "color_or_bw[\"color_0_ou_1\"] = (color_or_bw[\"color\"] == \"Color\") * 1\n",
        "color_or_bw[\"color_0_ou_1\"].value_counts()\n"
      ],
      "execution_count": 0,
      "outputs": [
        {
          "output_type": "stream",
          "text": [
            "/usr/local/lib/python3.6/dist-packages/ipykernel_launcher.py:4: SettingWithCopyWarning: \n",
            "A value is trying to be set on a copy of a slice from a DataFrame.\n",
            "Try using .loc[row_indexer,col_indexer] = value instead\n",
            "\n",
            "See the caveats in the documentation: https://pandas.pydata.org/pandas-docs/stable/user_guide/indexing.html#returning-a-view-versus-a-copy\n",
            "  after removing the cwd from sys.path.\n"
          ],
          "name": "stderr"
        },
        {
          "output_type": "execute_result",
          "data": {
            "text/plain": [
              "1    4815\n",
              "0     209\n",
              "Name: color_0_ou_1, dtype: int64"
            ]
          },
          "metadata": {
            "tags": []
          },
          "execution_count": 12
        }
      ]
    },
    {
      "cell_type": "markdown",
      "metadata": {
        "id": "XfEAm7B3T55b",
        "colab_type": "text"
      },
      "source": [
        "Agora nós temos uma última coluna em nosso dataframe com valores 0 e 1 (Feito pelo codigo anterior). "
      ]
    },
    {
      "cell_type": "code",
      "metadata": {
        "id": "xzqx4mMrPua3",
        "colab_type": "code",
        "outputId": "16739ddf-41b7-41a9-860b-12357c8f5fce",
        "colab": {
          "base_uri": "https://localhost:8080/",
          "height": 400
        }
      },
      "source": [
        "color_or_bw.head()"
      ],
      "execution_count": 0,
      "outputs": [
        {
          "output_type": "execute_result",
          "data": {
            "text/html": [
              "<div>\n",
              "<style scoped>\n",
              "    .dataframe tbody tr th:only-of-type {\n",
              "        vertical-align: middle;\n",
              "    }\n",
              "\n",
              "    .dataframe tbody tr th {\n",
              "        vertical-align: top;\n",
              "    }\n",
              "\n",
              "    .dataframe thead th {\n",
              "        text-align: right;\n",
              "    }\n",
              "</style>\n",
              "<table border=\"1\" class=\"dataframe\">\n",
              "  <thead>\n",
              "    <tr style=\"text-align: right;\">\n",
              "      <th></th>\n",
              "      <th>color</th>\n",
              "      <th>director_name</th>\n",
              "      <th>num_critic_for_reviews</th>\n",
              "      <th>duration</th>\n",
              "      <th>director_facebook_likes</th>\n",
              "      <th>actor_3_facebook_likes</th>\n",
              "      <th>actor_2_name</th>\n",
              "      <th>actor_1_facebook_likes</th>\n",
              "      <th>gross</th>\n",
              "      <th>genres</th>\n",
              "      <th>actor_1_name</th>\n",
              "      <th>movie_title</th>\n",
              "      <th>num_voted_users</th>\n",
              "      <th>cast_total_facebook_likes</th>\n",
              "      <th>actor_3_name</th>\n",
              "      <th>facenumber_in_poster</th>\n",
              "      <th>plot_keywords</th>\n",
              "      <th>movie_imdb_link</th>\n",
              "      <th>num_user_for_reviews</th>\n",
              "      <th>language</th>\n",
              "      <th>country</th>\n",
              "      <th>content_rating</th>\n",
              "      <th>budget</th>\n",
              "      <th>title_year</th>\n",
              "      <th>actor_2_facebook_likes</th>\n",
              "      <th>imdb_score</th>\n",
              "      <th>aspect_ratio</th>\n",
              "      <th>movie_facebook_likes</th>\n",
              "      <th>color_0_ou_1</th>\n",
              "    </tr>\n",
              "  </thead>\n",
              "  <tbody>\n",
              "    <tr>\n",
              "      <th>0</th>\n",
              "      <td>Color</td>\n",
              "      <td>James Cameron</td>\n",
              "      <td>723.0</td>\n",
              "      <td>178.0</td>\n",
              "      <td>0.0</td>\n",
              "      <td>855.0</td>\n",
              "      <td>Joel David Moore</td>\n",
              "      <td>1000.0</td>\n",
              "      <td>760505847.0</td>\n",
              "      <td>Action|Adventure|Fantasy|Sci-Fi</td>\n",
              "      <td>CCH Pounder</td>\n",
              "      <td>Avatar</td>\n",
              "      <td>886204</td>\n",
              "      <td>4834</td>\n",
              "      <td>Wes Studi</td>\n",
              "      <td>0.0</td>\n",
              "      <td>avatar|future|marine|native|paraplegic</td>\n",
              "      <td>http://www.imdb.com/title/tt0499549/?ref_=fn_t...</td>\n",
              "      <td>3054.0</td>\n",
              "      <td>English</td>\n",
              "      <td>USA</td>\n",
              "      <td>PG-13</td>\n",
              "      <td>237000000.0</td>\n",
              "      <td>2009.0</td>\n",
              "      <td>936.0</td>\n",
              "      <td>7.9</td>\n",
              "      <td>1.78</td>\n",
              "      <td>33000</td>\n",
              "      <td>1</td>\n",
              "    </tr>\n",
              "    <tr>\n",
              "      <th>1</th>\n",
              "      <td>Color</td>\n",
              "      <td>Gore Verbinski</td>\n",
              "      <td>302.0</td>\n",
              "      <td>169.0</td>\n",
              "      <td>563.0</td>\n",
              "      <td>1000.0</td>\n",
              "      <td>Orlando Bloom</td>\n",
              "      <td>40000.0</td>\n",
              "      <td>309404152.0</td>\n",
              "      <td>Action|Adventure|Fantasy</td>\n",
              "      <td>Johnny Depp</td>\n",
              "      <td>Pirates of the Caribbean: At World's End</td>\n",
              "      <td>471220</td>\n",
              "      <td>48350</td>\n",
              "      <td>Jack Davenport</td>\n",
              "      <td>0.0</td>\n",
              "      <td>goddess|marriage ceremony|marriage proposal|pi...</td>\n",
              "      <td>http://www.imdb.com/title/tt0449088/?ref_=fn_t...</td>\n",
              "      <td>1238.0</td>\n",
              "      <td>English</td>\n",
              "      <td>USA</td>\n",
              "      <td>PG-13</td>\n",
              "      <td>300000000.0</td>\n",
              "      <td>2007.0</td>\n",
              "      <td>5000.0</td>\n",
              "      <td>7.1</td>\n",
              "      <td>2.35</td>\n",
              "      <td>0</td>\n",
              "      <td>1</td>\n",
              "    </tr>\n",
              "    <tr>\n",
              "      <th>2</th>\n",
              "      <td>Color</td>\n",
              "      <td>Sam Mendes</td>\n",
              "      <td>602.0</td>\n",
              "      <td>148.0</td>\n",
              "      <td>0.0</td>\n",
              "      <td>161.0</td>\n",
              "      <td>Rory Kinnear</td>\n",
              "      <td>11000.0</td>\n",
              "      <td>200074175.0</td>\n",
              "      <td>Action|Adventure|Thriller</td>\n",
              "      <td>Christoph Waltz</td>\n",
              "      <td>Spectre</td>\n",
              "      <td>275868</td>\n",
              "      <td>11700</td>\n",
              "      <td>Stephanie Sigman</td>\n",
              "      <td>1.0</td>\n",
              "      <td>bomb|espionage|sequel|spy|terrorist</td>\n",
              "      <td>http://www.imdb.com/title/tt2379713/?ref_=fn_t...</td>\n",
              "      <td>994.0</td>\n",
              "      <td>English</td>\n",
              "      <td>UK</td>\n",
              "      <td>PG-13</td>\n",
              "      <td>245000000.0</td>\n",
              "      <td>2015.0</td>\n",
              "      <td>393.0</td>\n",
              "      <td>6.8</td>\n",
              "      <td>2.35</td>\n",
              "      <td>85000</td>\n",
              "      <td>1</td>\n",
              "    </tr>\n",
              "    <tr>\n",
              "      <th>3</th>\n",
              "      <td>Color</td>\n",
              "      <td>Christopher Nolan</td>\n",
              "      <td>813.0</td>\n",
              "      <td>164.0</td>\n",
              "      <td>22000.0</td>\n",
              "      <td>23000.0</td>\n",
              "      <td>Christian Bale</td>\n",
              "      <td>27000.0</td>\n",
              "      <td>448130642.0</td>\n",
              "      <td>Action|Thriller</td>\n",
              "      <td>Tom Hardy</td>\n",
              "      <td>The Dark Knight Rises</td>\n",
              "      <td>1144337</td>\n",
              "      <td>106759</td>\n",
              "      <td>Joseph Gordon-Levitt</td>\n",
              "      <td>0.0</td>\n",
              "      <td>deception|imprisonment|lawlessness|police offi...</td>\n",
              "      <td>http://www.imdb.com/title/tt1345836/?ref_=fn_t...</td>\n",
              "      <td>2701.0</td>\n",
              "      <td>English</td>\n",
              "      <td>USA</td>\n",
              "      <td>PG-13</td>\n",
              "      <td>250000000.0</td>\n",
              "      <td>2012.0</td>\n",
              "      <td>23000.0</td>\n",
              "      <td>8.5</td>\n",
              "      <td>2.35</td>\n",
              "      <td>164000</td>\n",
              "      <td>1</td>\n",
              "    </tr>\n",
              "    <tr>\n",
              "      <th>5</th>\n",
              "      <td>Color</td>\n",
              "      <td>Andrew Stanton</td>\n",
              "      <td>462.0</td>\n",
              "      <td>132.0</td>\n",
              "      <td>475.0</td>\n",
              "      <td>530.0</td>\n",
              "      <td>Samantha Morton</td>\n",
              "      <td>640.0</td>\n",
              "      <td>73058679.0</td>\n",
              "      <td>Action|Adventure|Sci-Fi</td>\n",
              "      <td>Daryl Sabara</td>\n",
              "      <td>John Carter</td>\n",
              "      <td>212204</td>\n",
              "      <td>1873</td>\n",
              "      <td>Polly Walker</td>\n",
              "      <td>1.0</td>\n",
              "      <td>alien|american civil war|male nipple|mars|prin...</td>\n",
              "      <td>http://www.imdb.com/title/tt0401729/?ref_=fn_t...</td>\n",
              "      <td>738.0</td>\n",
              "      <td>English</td>\n",
              "      <td>USA</td>\n",
              "      <td>PG-13</td>\n",
              "      <td>263700000.0</td>\n",
              "      <td>2012.0</td>\n",
              "      <td>632.0</td>\n",
              "      <td>6.6</td>\n",
              "      <td>2.35</td>\n",
              "      <td>24000</td>\n",
              "      <td>1</td>\n",
              "    </tr>\n",
              "  </tbody>\n",
              "</table>\n",
              "</div>"
            ],
            "text/plain": [
              "   color      director_name  ...  movie_facebook_likes  color_0_ou_1\n",
              "0  Color      James Cameron  ...                 33000             1\n",
              "1  Color     Gore Verbinski  ...                     0             1\n",
              "2  Color         Sam Mendes  ...                 85000             1\n",
              "3  Color  Christopher Nolan  ...                164000             1\n",
              "5  Color     Andrew Stanton  ...                 24000             1\n",
              "\n",
              "[5 rows x 29 columns]"
            ]
          },
          "metadata": {
            "tags": []
          },
          "execution_count": 13
        }
      ]
    },
    {
      "cell_type": "markdown",
      "metadata": {
        "id": "_w6VBOTYUC1J",
        "colab_type": "text"
      },
      "source": [
        "##Plotando o gráfico cor-receita e fazendo média e mediana de dados\n",
        "\n",
        "Agora podemos construir gráficos com essa informação de filmes coloridos ou não."
      ]
    },
    {
      "cell_type": "code",
      "metadata": {
        "id": "VVVjhjzQVIa0",
        "colab_type": "code",
        "outputId": "9d41a364-bf01-4696-8b9d-487f3cfc1586",
        "colab": {
          "base_uri": "https://localhost:8080/",
          "height": 309
        }
      },
      "source": [
        "#Plotamos nossos dados com um displot\n",
        "sns.scatterplot(data = color_or_bw, x = \"color_0_ou_1\", y = \"gross\")"
      ],
      "execution_count": 0,
      "outputs": [
        {
          "output_type": "execute_result",
          "data": {
            "text/plain": [
              "<matplotlib.axes._subplots.AxesSubplot at 0x7fb73e1fac88>"
            ]
          },
          "metadata": {
            "tags": []
          },
          "execution_count": 14
        },
        {
          "output_type": "display_data",
          "data": {
            "image/png": "[encoded data removed]",
            "text/plain": [
              "<Figure size 432x288 with 1 Axes>"
            ]
          },
          "metadata": {
            "tags": []
          }
        }
      ]
    },
    {
      "cell_type": "markdown",
      "metadata": {
        "id": "JGftEuFiXrQE",
        "colab_type": "text"
      },
      "source": [
        "Repare como filmes coloridos tem valores bem maiores (isso já era até esperado), mas também temos **pontos bem altos em filmes preto e branco, chamando muito atenção**.\n",
        "\n",
        "Vamos explorar algumas estatísticas destes filmes (os pretos e blancos):"
      ]
    },
    {
      "cell_type": "code",
      "metadata": {
        "id": "xZ2mzeP0X47U",
        "colab_type": "code",
        "outputId": "310c4b58-156d-43d5-c60b-8ea1816ff8db",
        "colab": {
          "base_uri": "https://localhost:8080/",
          "height": 90
        }
      },
      "source": [
        "#Media da receita\n",
        "color_or_bw.groupby(\"color\").mean()[\"gross\"]"
      ],
      "execution_count": 0,
      "outputs": [
        {
          "output_type": "execute_result",
          "data": {
            "text/plain": [
              "color\n",
              " Black and White    3.245702e+07\n",
              "Color               4.902619e+07\n",
              "Name: gross, dtype: float64"
            ]
          },
          "metadata": {
            "tags": []
          },
          "execution_count": 15
        }
      ]
    },
    {
      "cell_type": "code",
      "metadata": {
        "id": "HqxM-QbCYdeL",
        "colab_type": "code",
        "outputId": "dab88ad8-085a-40eb-ba7e-31bab11d7d10",
        "colab": {
          "base_uri": "https://localhost:8080/",
          "height": 90
        }
      },
      "source": [
        "#Media de notas no imdb\n",
        "color_or_bw.groupby(\"color\").mean()[\"imdb_score\"].round(2)"
      ],
      "execution_count": 0,
      "outputs": [
        {
          "output_type": "execute_result",
          "data": {
            "text/plain": [
              "color\n",
              " Black and White    7.23\n",
              "Color               6.41\n",
              "Name: imdb_score, dtype: float64"
            ]
          },
          "metadata": {
            "tags": []
          },
          "execution_count": 16
        }
      ]
    },
    {
      "cell_type": "code",
      "metadata": {
        "id": "kjZfOxLgYi1g",
        "colab_type": "code",
        "outputId": "ca27fe54-dc9c-4c84-941e-ad9877092390",
        "colab": {
          "base_uri": "https://localhost:8080/",
          "height": 90
        }
      },
      "source": [
        "#Mediana das notas no imdb\n",
        "color_or_bw.groupby(\"color\").median()[\"imdb_score\"]"
      ],
      "execution_count": 0,
      "outputs": [
        {
          "output_type": "execute_result",
          "data": {
            "text/plain": [
              "color\n",
              " Black and White    7.4\n",
              "Color               6.5\n",
              "Name: imdb_score, dtype: float64"
            ]
          },
          "metadata": {
            "tags": []
          },
          "execution_count": 17
        }
      ]
    },
    {
      "cell_type": "markdown",
      "metadata": {
        "id": "k2sKLuSMbEu6",
        "colab_type": "text"
      },
      "source": [
        "Das estatísticas temos duas bem interessantes: a média e mediana das notas de filmes preto e branco são maiores. \n",
        "\n",
        "Há várias possíveis explicações sobre o porquê disso.\n",
        "\n",
        "Conclusão: Se somarmos o fato das boas notas dos filmes em preto e branco com a informação do grafico que mostra a receita consideravel desses filmes, chegamos a conclusão de que esses filmes são bastantes valorizados."
      ]
    },
    {
      "cell_type": "markdown",
      "metadata": {
        "id": "24jzKMZObzJr",
        "colab_type": "text"
      },
      "source": [
        "##Analisando as Finanças dos Filmes\n",
        "\n",
        "A partir de agora, vamos fazer uma investigação melhor em relação às finanças dos filmes (faturamento e orçamento). Vamos iniciar plotando e interpretando um gráfico de gross (faturamento/receita) por budget (orçamento/despesas).\n",
        "\n",
        "Para plotar os dados, primeiro **removemos as linhas com informações de faturamento e orçamento vazias e também com valores igual a 0**, para então gerar o gráfico."
      ]
    },
    {
      "cell_type": "code",
      "metadata": {
        "id": "6mvFlTDBcG3m",
        "colab_type": "code",
        "outputId": "76a2eb06-9de8-449e-9185-3c33d8bd365f",
        "colab": {
          "base_uri": "https://localhost:8080/",
          "height": 308
        }
      },
      "source": [
        "budget_gross=  imdb[[\"budget\", \"gross\"]].dropna().query(\"budget > 0 | gross > 0\")\n",
        "sns.scatterplot(data = budget_gross, x = \"budget\", y = \"gross\")"
      ],
      "execution_count": 0,
      "outputs": [
        {
          "output_type": "execute_result",
          "data": {
            "text/plain": [
              "<matplotlib.axes._subplots.AxesSubplot at 0x7fb73b974c50>"
            ]
          },
          "metadata": {
            "tags": []
          },
          "execution_count": 18
        },
        {
          "output_type": "display_data",
          "data": {
            "image/png": "[encoded data removed]",
            "text/plain": [
              "<Figure size 432x288 with 1 Axes>"
            ]
          },
          "metadata": {
            "tags": []
          }
        }
      ]
    },
    {
      "cell_type": "markdown",
      "metadata": {
        "id": "DqCZxexbfpYZ",
        "colab_type": "text"
      },
      "source": [
        "Agora vamos analisar esse gráfico juntos, veja que a escala de budget mudou, agora é 10. \n",
        "\n",
        "Repare que: apenas poucos filmes tem orçamentos tão grandes assim, e seus faturamentos são muito baixos. Será que temos algum problema nos dados? Vamos investigar melhor!\n"
      ]
    },
    {
      "cell_type": "code",
      "metadata": {
        "id": "ioYQxgBZgMqi",
        "colab_type": "code",
        "outputId": "7b09cc0d-8460-4f59-c9e2-b404c8d15740",
        "colab": {
          "base_uri": "https://localhost:8080/",
          "height": 400
        }
      },
      "source": [
        "imdb.sort_values(\"budget\", ascending=False).head()"
      ],
      "execution_count": 0,
      "outputs": [
        {
          "output_type": "execute_result",
          "data": {
            "text/html": [
              "<div>\n",
              "<style scoped>\n",
              "    .dataframe tbody tr th:only-of-type {\n",
              "        vertical-align: middle;\n",
              "    }\n",
              "\n",
              "    .dataframe tbody tr th {\n",
              "        vertical-align: top;\n",
              "    }\n",
              "\n",
              "    .dataframe thead th {\n",
              "        text-align: right;\n",
              "    }\n",
              "</style>\n",
              "<table border=\"1\" class=\"dataframe\">\n",
              "  <thead>\n",
              "    <tr style=\"text-align: right;\">\n",
              "      <th></th>\n",
              "      <th>color</th>\n",
              "      <th>director_name</th>\n",
              "      <th>num_critic_for_reviews</th>\n",
              "      <th>duration</th>\n",
              "      <th>director_facebook_likes</th>\n",
              "      <th>actor_3_facebook_likes</th>\n",
              "      <th>actor_2_name</th>\n",
              "      <th>actor_1_facebook_likes</th>\n",
              "      <th>gross</th>\n",
              "      <th>genres</th>\n",
              "      <th>actor_1_name</th>\n",
              "      <th>movie_title</th>\n",
              "      <th>num_voted_users</th>\n",
              "      <th>cast_total_facebook_likes</th>\n",
              "      <th>actor_3_name</th>\n",
              "      <th>facenumber_in_poster</th>\n",
              "      <th>plot_keywords</th>\n",
              "      <th>movie_imdb_link</th>\n",
              "      <th>num_user_for_reviews</th>\n",
              "      <th>language</th>\n",
              "      <th>country</th>\n",
              "      <th>content_rating</th>\n",
              "      <th>budget</th>\n",
              "      <th>title_year</th>\n",
              "      <th>actor_2_facebook_likes</th>\n",
              "      <th>imdb_score</th>\n",
              "      <th>aspect_ratio</th>\n",
              "      <th>movie_facebook_likes</th>\n",
              "    </tr>\n",
              "  </thead>\n",
              "  <tbody>\n",
              "    <tr>\n",
              "      <th>2988</th>\n",
              "      <td>Color</td>\n",
              "      <td>Joon-ho Bong</td>\n",
              "      <td>363.0</td>\n",
              "      <td>110.0</td>\n",
              "      <td>584.0</td>\n",
              "      <td>74.0</td>\n",
              "      <td>Kang-ho Song</td>\n",
              "      <td>629.0</td>\n",
              "      <td>2201412.0</td>\n",
              "      <td>Comedy|Drama|Horror|Sci-Fi</td>\n",
              "      <td>Doona Bae</td>\n",
              "      <td>The Host</td>\n",
              "      <td>68883</td>\n",
              "      <td>1173</td>\n",
              "      <td>Ah-sung Ko</td>\n",
              "      <td>0.0</td>\n",
              "      <td>daughter|han river|monster|river|seoul</td>\n",
              "      <td>http://www.imdb.com/title/tt0468492/?ref_=fn_t...</td>\n",
              "      <td>279.0</td>\n",
              "      <td>Korean</td>\n",
              "      <td>South Korea</td>\n",
              "      <td>R</td>\n",
              "      <td>1.221550e+10</td>\n",
              "      <td>2006.0</td>\n",
              "      <td>398.0</td>\n",
              "      <td>7.0</td>\n",
              "      <td>1.85</td>\n",
              "      <td>7000</td>\n",
              "    </tr>\n",
              "    <tr>\n",
              "      <th>3859</th>\n",
              "      <td>Color</td>\n",
              "      <td>Chan-wook Park</td>\n",
              "      <td>202.0</td>\n",
              "      <td>112.0</td>\n",
              "      <td>0.0</td>\n",
              "      <td>38.0</td>\n",
              "      <td>Yeong-ae Lee</td>\n",
              "      <td>717.0</td>\n",
              "      <td>211667.0</td>\n",
              "      <td>Crime|Drama</td>\n",
              "      <td>Min-sik Choi</td>\n",
              "      <td>Lady Vengeance</td>\n",
              "      <td>53508</td>\n",
              "      <td>907</td>\n",
              "      <td>Hye-jeong Kang</td>\n",
              "      <td>0.0</td>\n",
              "      <td>cake|christian|lesbian sex|oral sex|pregnant s...</td>\n",
              "      <td>http://www.imdb.com/title/tt0451094/?ref_=fn_t...</td>\n",
              "      <td>131.0</td>\n",
              "      <td>Korean</td>\n",
              "      <td>South Korea</td>\n",
              "      <td>R</td>\n",
              "      <td>4.200000e+09</td>\n",
              "      <td>2005.0</td>\n",
              "      <td>126.0</td>\n",
              "      <td>7.7</td>\n",
              "      <td>2.35</td>\n",
              "      <td>4000</td>\n",
              "    </tr>\n",
              "    <tr>\n",
              "      <th>3005</th>\n",
              "      <td>Color</td>\n",
              "      <td>Lajos Koltai</td>\n",
              "      <td>73.0</td>\n",
              "      <td>134.0</td>\n",
              "      <td>45.0</td>\n",
              "      <td>0.0</td>\n",
              "      <td>Péter Fancsikai</td>\n",
              "      <td>9.0</td>\n",
              "      <td>195888.0</td>\n",
              "      <td>Drama|Romance|War</td>\n",
              "      <td>Marcell Nagy</td>\n",
              "      <td>Fateless</td>\n",
              "      <td>5603</td>\n",
              "      <td>11</td>\n",
              "      <td>Bálint Péntek</td>\n",
              "      <td>0.0</td>\n",
              "      <td>bus|death|gay slur|hatred|jewish</td>\n",
              "      <td>http://www.imdb.com/title/tt0367082/?ref_=fn_t...</td>\n",
              "      <td>45.0</td>\n",
              "      <td>Hungarian</td>\n",
              "      <td>Hungary</td>\n",
              "      <td>R</td>\n",
              "      <td>2.500000e+09</td>\n",
              "      <td>2005.0</td>\n",
              "      <td>2.0</td>\n",
              "      <td>7.1</td>\n",
              "      <td>2.35</td>\n",
              "      <td>607</td>\n",
              "    </tr>\n",
              "    <tr>\n",
              "      <th>2323</th>\n",
              "      <td>Color</td>\n",
              "      <td>Hayao Miyazaki</td>\n",
              "      <td>174.0</td>\n",
              "      <td>134.0</td>\n",
              "      <td>6000.0</td>\n",
              "      <td>745.0</td>\n",
              "      <td>Jada Pinkett Smith</td>\n",
              "      <td>893.0</td>\n",
              "      <td>2298191.0</td>\n",
              "      <td>Adventure|Animation|Fantasy</td>\n",
              "      <td>Minnie Driver</td>\n",
              "      <td>Princess Mononoke</td>\n",
              "      <td>221552</td>\n",
              "      <td>2710</td>\n",
              "      <td>Billy Crudup</td>\n",
              "      <td>0.0</td>\n",
              "      <td>anime|cult film|forest|princess|studio ghibli</td>\n",
              "      <td>http://www.imdb.com/title/tt0119698/?ref_=fn_t...</td>\n",
              "      <td>570.0</td>\n",
              "      <td>Japanese</td>\n",
              "      <td>Japan</td>\n",
              "      <td>PG-13</td>\n",
              "      <td>2.400000e+09</td>\n",
              "      <td>1997.0</td>\n",
              "      <td>851.0</td>\n",
              "      <td>8.4</td>\n",
              "      <td>1.85</td>\n",
              "      <td>11000</td>\n",
              "    </tr>\n",
              "    <tr>\n",
              "      <th>2334</th>\n",
              "      <td>Color</td>\n",
              "      <td>Katsuhiro Ôtomo</td>\n",
              "      <td>105.0</td>\n",
              "      <td>103.0</td>\n",
              "      <td>78.0</td>\n",
              "      <td>101.0</td>\n",
              "      <td>Robin Atkin Downes</td>\n",
              "      <td>488.0</td>\n",
              "      <td>410388.0</td>\n",
              "      <td>Action|Adventure|Animation|Family|Sci-Fi|Thriller</td>\n",
              "      <td>William Hootkins</td>\n",
              "      <td>Steamboy</td>\n",
              "      <td>13727</td>\n",
              "      <td>991</td>\n",
              "      <td>Rosalind Ayres</td>\n",
              "      <td>1.0</td>\n",
              "      <td>19th century|ball|boy|inventor|steam</td>\n",
              "      <td>http://www.imdb.com/title/tt0348121/?ref_=fn_t...</td>\n",
              "      <td>79.0</td>\n",
              "      <td>Japanese</td>\n",
              "      <td>Japan</td>\n",
              "      <td>PG-13</td>\n",
              "      <td>2.127520e+09</td>\n",
              "      <td>2004.0</td>\n",
              "      <td>336.0</td>\n",
              "      <td>6.9</td>\n",
              "      <td>1.85</td>\n",
              "      <td>973</td>\n",
              "    </tr>\n",
              "  </tbody>\n",
              "</table>\n",
              "</div>"
            ],
            "text/plain": [
              "      color    director_name  ...  aspect_ratio  movie_facebook_likes\n",
              "2988  Color     Joon-ho Bong  ...          1.85                  7000\n",
              "3859  Color   Chan-wook Park  ...          2.35                  4000\n",
              "3005  Color     Lajos Koltai  ...          2.35                   607\n",
              "2323  Color   Hayao Miyazaki  ...          1.85                 11000\n",
              "2334  Color  Katsuhiro Ôtomo  ...          1.85                   973\n",
              "\n",
              "[5 rows x 28 columns]"
            ]
          },
          "metadata": {
            "tags": []
          },
          "execution_count": 19
        }
      ]
    },
    {
      "cell_type": "markdown",
      "metadata": {
        "id": "pKDToIRMg00V",
        "colab_type": "text"
      },
      "source": [
        "Ordenando os dados pelo budget, para tentar resolver o problema, percebemos que as primeiras posições são de filmes asiáticos.\n",
        "\n",
        "Países asiaticos costumam usar moedas que possuem três casas decimais a mais que o dólar. Então provavelmente o que está ocorrendo é que os dados de orçamento tem valores na moeda local, por isso detectamos valores tão discrepantes. \n",
        "\n",
        "Como não temos garantia dos números, vamos precisar trabalhar **apenas com filmes americanos**, assim garantimos que tanto gross e budget estão em dólares. Então vamos iniciar esse processo:"
      ]
    },
    {
      "cell_type": "code",
      "metadata": {
        "id": "CAN8qfHaO4kM",
        "colab_type": "code",
        "outputId": "d204a756-4c13-4092-b38b-4f952d2b20e4",
        "colab": {
          "base_uri": "https://localhost:8080/",
          "height": 256
        }
      },
      "source": [
        "imdb[\"country\"].unique()"
      ],
      "execution_count": 0,
      "outputs": [
        {
          "output_type": "execute_result",
          "data": {
            "text/plain": [
              "array(['USA', 'UK', nan, 'New Zealand', 'Canada', 'Australia', 'Belgium',\n",
              "       'Japan', 'Germany', 'China', 'France', 'New Line', 'Mexico',\n",
              "       'Spain', 'Hong Kong', 'Czech Republic', 'India', 'Soviet Union',\n",
              "       'South Korea', 'Peru', 'Italy', 'Russia', 'Aruba', 'Denmark',\n",
              "       'Libya', 'Ireland', 'South Africa', 'Iceland', 'Switzerland',\n",
              "       'Romania', 'West Germany', 'Chile', 'Netherlands', 'Hungary',\n",
              "       'Panama', 'Greece', 'Sweden', 'Norway', 'Taiwan', 'Official site',\n",
              "       'Cambodia', 'Thailand', 'Slovakia', 'Bulgaria', 'Iran', 'Poland',\n",
              "       'Georgia', 'Turkey', 'Nigeria', 'Brazil', 'Finland', 'Bahamas',\n",
              "       'Argentina', 'Colombia', 'Israel', 'Egypt', 'Kyrgyzstan',\n",
              "       'Indonesia', 'Pakistan', 'Slovenia', 'Afghanistan',\n",
              "       'Dominican Republic', 'Cameroon', 'United Arab Emirates', 'Kenya',\n",
              "       'Philippines'], dtype=object)"
            ]
          },
          "metadata": {
            "tags": []
          },
          "execution_count": 20
        }
      ]
    },
    {
      "cell_type": "code",
      "metadata": {
        "id": "Gs0g4pdch6T9",
        "colab_type": "code",
        "outputId": "0b8ac957-6d69-4591-ab45-08dba0e397e4",
        "colab": {
          "base_uri": "https://localhost:8080/",
          "height": 400
        }
      },
      "source": [
        "imdb = imdb.drop_duplicates()\n",
        "#Selecionando so os filmes americanos\n",
        "imdb_usa = imdb.query(\"country == 'USA'\")\n",
        "#Selecionando pelos filmes de maior orçamento\n",
        "imdb_usa = imdb_usa.sort_values(\"budget\", ascending = False)\n",
        "imdb_usa.head()"
      ],
      "execution_count": 0,
      "outputs": [
        {
          "output_type": "execute_result",
          "data": {
            "text/html": [
              "<div>\n",
              "<style scoped>\n",
              "    .dataframe tbody tr th:only-of-type {\n",
              "        vertical-align: middle;\n",
              "    }\n",
              "\n",
              "    .dataframe tbody tr th {\n",
              "        vertical-align: top;\n",
              "    }\n",
              "\n",
              "    .dataframe thead th {\n",
              "        text-align: right;\n",
              "    }\n",
              "</style>\n",
              "<table border=\"1\" class=\"dataframe\">\n",
              "  <thead>\n",
              "    <tr style=\"text-align: right;\">\n",
              "      <th></th>\n",
              "      <th>color</th>\n",
              "      <th>director_name</th>\n",
              "      <th>num_critic_for_reviews</th>\n",
              "      <th>duration</th>\n",
              "      <th>director_facebook_likes</th>\n",
              "      <th>actor_3_facebook_likes</th>\n",
              "      <th>actor_2_name</th>\n",
              "      <th>actor_1_facebook_likes</th>\n",
              "      <th>gross</th>\n",
              "      <th>genres</th>\n",
              "      <th>actor_1_name</th>\n",
              "      <th>movie_title</th>\n",
              "      <th>num_voted_users</th>\n",
              "      <th>cast_total_facebook_likes</th>\n",
              "      <th>actor_3_name</th>\n",
              "      <th>facenumber_in_poster</th>\n",
              "      <th>plot_keywords</th>\n",
              "      <th>movie_imdb_link</th>\n",
              "      <th>num_user_for_reviews</th>\n",
              "      <th>language</th>\n",
              "      <th>country</th>\n",
              "      <th>content_rating</th>\n",
              "      <th>budget</th>\n",
              "      <th>title_year</th>\n",
              "      <th>actor_2_facebook_likes</th>\n",
              "      <th>imdb_score</th>\n",
              "      <th>aspect_ratio</th>\n",
              "      <th>movie_facebook_likes</th>\n",
              "    </tr>\n",
              "  </thead>\n",
              "  <tbody>\n",
              "    <tr>\n",
              "      <th>1</th>\n",
              "      <td>Color</td>\n",
              "      <td>Gore Verbinski</td>\n",
              "      <td>302.0</td>\n",
              "      <td>169.0</td>\n",
              "      <td>563.0</td>\n",
              "      <td>1000.0</td>\n",
              "      <td>Orlando Bloom</td>\n",
              "      <td>40000.0</td>\n",
              "      <td>309404152.0</td>\n",
              "      <td>Action|Adventure|Fantasy</td>\n",
              "      <td>Johnny Depp</td>\n",
              "      <td>Pirates of the Caribbean: At World's End</td>\n",
              "      <td>471220</td>\n",
              "      <td>48350</td>\n",
              "      <td>Jack Davenport</td>\n",
              "      <td>0.0</td>\n",
              "      <td>goddess|marriage ceremony|marriage proposal|pi...</td>\n",
              "      <td>http://www.imdb.com/title/tt0449088/?ref_=fn_t...</td>\n",
              "      <td>1238.0</td>\n",
              "      <td>English</td>\n",
              "      <td>USA</td>\n",
              "      <td>PG-13</td>\n",
              "      <td>300000000.0</td>\n",
              "      <td>2007.0</td>\n",
              "      <td>5000.0</td>\n",
              "      <td>7.1</td>\n",
              "      <td>2.35</td>\n",
              "      <td>0</td>\n",
              "    </tr>\n",
              "    <tr>\n",
              "      <th>5</th>\n",
              "      <td>Color</td>\n",
              "      <td>Andrew Stanton</td>\n",
              "      <td>462.0</td>\n",
              "      <td>132.0</td>\n",
              "      <td>475.0</td>\n",
              "      <td>530.0</td>\n",
              "      <td>Samantha Morton</td>\n",
              "      <td>640.0</td>\n",
              "      <td>73058679.0</td>\n",
              "      <td>Action|Adventure|Sci-Fi</td>\n",
              "      <td>Daryl Sabara</td>\n",
              "      <td>John Carter</td>\n",
              "      <td>212204</td>\n",
              "      <td>1873</td>\n",
              "      <td>Polly Walker</td>\n",
              "      <td>1.0</td>\n",
              "      <td>alien|american civil war|male nipple|mars|prin...</td>\n",
              "      <td>http://www.imdb.com/title/tt0401729/?ref_=fn_t...</td>\n",
              "      <td>738.0</td>\n",
              "      <td>English</td>\n",
              "      <td>USA</td>\n",
              "      <td>PG-13</td>\n",
              "      <td>263700000.0</td>\n",
              "      <td>2012.0</td>\n",
              "      <td>632.0</td>\n",
              "      <td>6.6</td>\n",
              "      <td>2.35</td>\n",
              "      <td>24000</td>\n",
              "    </tr>\n",
              "    <tr>\n",
              "      <th>7</th>\n",
              "      <td>Color</td>\n",
              "      <td>Nathan Greno</td>\n",
              "      <td>324.0</td>\n",
              "      <td>100.0</td>\n",
              "      <td>15.0</td>\n",
              "      <td>284.0</td>\n",
              "      <td>Donna Murphy</td>\n",
              "      <td>799.0</td>\n",
              "      <td>200807262.0</td>\n",
              "      <td>Adventure|Animation|Comedy|Family|Fantasy|Musi...</td>\n",
              "      <td>Brad Garrett</td>\n",
              "      <td>Tangled</td>\n",
              "      <td>294810</td>\n",
              "      <td>2036</td>\n",
              "      <td>M.C. Gainey</td>\n",
              "      <td>1.0</td>\n",
              "      <td>17th century|based on fairy tale|disney|flower...</td>\n",
              "      <td>http://www.imdb.com/title/tt0398286/?ref_=fn_t...</td>\n",
              "      <td>387.0</td>\n",
              "      <td>English</td>\n",
              "      <td>USA</td>\n",
              "      <td>PG</td>\n",
              "      <td>260000000.0</td>\n",
              "      <td>2010.0</td>\n",
              "      <td>553.0</td>\n",
              "      <td>7.8</td>\n",
              "      <td>1.85</td>\n",
              "      <td>29000</td>\n",
              "    </tr>\n",
              "    <tr>\n",
              "      <th>6</th>\n",
              "      <td>Color</td>\n",
              "      <td>Sam Raimi</td>\n",
              "      <td>392.0</td>\n",
              "      <td>156.0</td>\n",
              "      <td>0.0</td>\n",
              "      <td>4000.0</td>\n",
              "      <td>James Franco</td>\n",
              "      <td>24000.0</td>\n",
              "      <td>336530303.0</td>\n",
              "      <td>Action|Adventure|Romance</td>\n",
              "      <td>J.K. Simmons</td>\n",
              "      <td>Spider-Man 3</td>\n",
              "      <td>383056</td>\n",
              "      <td>46055</td>\n",
              "      <td>Kirsten Dunst</td>\n",
              "      <td>0.0</td>\n",
              "      <td>sandman|spider man|symbiote|venom|villain</td>\n",
              "      <td>http://www.imdb.com/title/tt0413300/?ref_=fn_t...</td>\n",
              "      <td>1902.0</td>\n",
              "      <td>English</td>\n",
              "      <td>USA</td>\n",
              "      <td>PG-13</td>\n",
              "      <td>258000000.0</td>\n",
              "      <td>2007.0</td>\n",
              "      <td>11000.0</td>\n",
              "      <td>6.2</td>\n",
              "      <td>2.35</td>\n",
              "      <td>0</td>\n",
              "    </tr>\n",
              "    <tr>\n",
              "      <th>3461</th>\n",
              "      <td>Color</td>\n",
              "      <td>Sam Raimi</td>\n",
              "      <td>392.0</td>\n",
              "      <td>156.0</td>\n",
              "      <td>0.0</td>\n",
              "      <td>4000.0</td>\n",
              "      <td>James Franco</td>\n",
              "      <td>24000.0</td>\n",
              "      <td>336530303.0</td>\n",
              "      <td>Action|Adventure|Romance</td>\n",
              "      <td>J.K. Simmons</td>\n",
              "      <td>Spider-Man 3</td>\n",
              "      <td>383071</td>\n",
              "      <td>46055</td>\n",
              "      <td>Kirsten Dunst</td>\n",
              "      <td>0.0</td>\n",
              "      <td>sandman|spider man|symbiote|venom|villain</td>\n",
              "      <td>http://www.imdb.com/title/tt0413300/?ref_=fn_t...</td>\n",
              "      <td>1902.0</td>\n",
              "      <td>English</td>\n",
              "      <td>USA</td>\n",
              "      <td>PG-13</td>\n",
              "      <td>258000000.0</td>\n",
              "      <td>2007.0</td>\n",
              "      <td>11000.0</td>\n",
              "      <td>6.2</td>\n",
              "      <td>2.35</td>\n",
              "      <td>0</td>\n",
              "    </tr>\n",
              "  </tbody>\n",
              "</table>\n",
              "</div>"
            ],
            "text/plain": [
              "      color   director_name  ...  aspect_ratio  movie_facebook_likes\n",
              "1     Color  Gore Verbinski  ...          2.35                     0\n",
              "5     Color  Andrew Stanton  ...          2.35                 24000\n",
              "7     Color    Nathan Greno  ...          1.85                 29000\n",
              "6     Color       Sam Raimi  ...          2.35                     0\n",
              "3461  Color       Sam Raimi  ...          2.35                     0\n",
              "\n",
              "[5 rows x 28 columns]"
            ]
          },
          "metadata": {
            "tags": []
          },
          "execution_count": 21
        }
      ]
    },
    {
      "cell_type": "markdown",
      "metadata": {
        "id": "o85rE1zd1Pz-",
        "colab_type": "text"
      },
      "source": [
        "Agora temos os dados só dos filmes americanos para fazer uma análise melhor entre gross e budget. Vamos plotar o gráfico novamente:\n"
      ]
    },
    {
      "cell_type": "code",
      "metadata": {
        "id": "5_WcPc9o1UWC",
        "colab_type": "code",
        "outputId": "6a105d63-0043-436c-a31b-2d130e65c19a",
        "colab": {
          "base_uri": "https://localhost:8080/",
          "height": 308
        }
      },
      "source": [
        "budget_gross = imdb_usa.query(\"budget > 0 | gross > 0\")[[\"budget\", \"gross\"]].dropna()\n",
        "sns.scatterplot(data = budget_gross, x = \"budget\", y = \"gross\")"
      ],
      "execution_count": 0,
      "outputs": [
        {
          "output_type": "execute_result",
          "data": {
            "text/plain": [
              "<matplotlib.axes._subplots.AxesSubplot at 0x7fb73b8fdd30>"
            ]
          },
          "metadata": {
            "tags": []
          },
          "execution_count": 22
        },
        {
          "output_type": "display_data",
          "data": {
            "image/png": "[encoded data removed]",
            "text/plain": [
              "<Figure size 432x288 with 1 Axes>"
            ]
          },
          "metadata": {
            "tags": []
          }
        }
      ]
    },
    {
      "cell_type": "markdown",
      "metadata": {
        "id": "fFUY8H0EQTln",
        "colab_type": "text"
      },
      "source": [
        "Veja que interessante, aparentemente temos uma relação entre orçamento e faturamento: Quanto maior o orçamento, maior o faturamento.\n",
        "\n"
      ]
    },
    {
      "cell_type": "markdown",
      "metadata": {
        "id": "b93pF2g4Uhdn",
        "colab_type": "text"
      },
      "source": [
        "##Analisando o Lucro dos Filmes\n",
        "\n",
        "Já que estamos trabalhando com orçamento e faturamento, podemos construir uma nova informação, **o lucro**, para analisar. De forma bem simplista esse processo de construir novas informações a partir das existentes no DataSet é conhecido como **Feature Engineering**."
      ]
    },
    {
      "cell_type": "code",
      "metadata": {
        "id": "vEEtucGARsi1",
        "colab_type": "code",
        "outputId": "40d9d090-3004-4c7d-bb06-b600fe026716",
        "colab": {
          "base_uri": "https://localhost:8080/",
          "height": 127
        }
      },
      "source": [
        "#Calculamos o lucro, que é igual ao faturamento menos o orçamento\n",
        "imdb_usa['lucro'] = imdb_usa['gross'] - imdb_usa['budget']\n",
        "imdb_usa['lucro'].head()"
      ],
      "execution_count": 0,
      "outputs": [
        {
          "output_type": "execute_result",
          "data": {
            "text/plain": [
              "1         9404152.0\n",
              "5      -190641321.0\n",
              "7       -59192738.0\n",
              "6        78530303.0\n",
              "3461     78530303.0\n",
              "Name: lucro, dtype: float64"
            ]
          },
          "metadata": {
            "tags": []
          },
          "execution_count": 23
        }
      ]
    },
    {
      "cell_type": "code",
      "metadata": {
        "id": "9v2wI0jrSt5a",
        "colab_type": "code",
        "outputId": "129dda63-a401-4d8f-b5ca-e0149795b0a0",
        "colab": {
          "base_uri": "https://localhost:8080/",
          "height": 308
        }
      },
      "source": [
        "#Construímos nossa coluna lucro na base de dados e plotamos o orçamento contra lucro.\n",
        "budget_lucro = imdb_usa.query(\"budget > 0 | gross > 0\")[[\"budget\", \"lucro\"]].dropna()\n",
        "sns.scatterplot(data = budget_lucro, x = \"budget\", y = \"lucro\")"
      ],
      "execution_count": 0,
      "outputs": [
        {
          "output_type": "execute_result",
          "data": {
            "text/plain": [
              "<matplotlib.axes._subplots.AxesSubplot at 0x7fb73b87d048>"
            ]
          },
          "metadata": {
            "tags": []
          },
          "execution_count": 24
        },
        {
          "output_type": "display_data",
          "data": {
            "image/png": "[encoded data removed]",
            "text/plain": [
              "<Figure size 432x288 with 1 Axes>"
            ]
          },
          "metadata": {
            "tags": []
          }
        }
      ]
    },
    {
      "cell_type": "markdown",
      "metadata": {
        "id": "_lc3NwX5Tiea",
        "colab_type": "text"
      },
      "source": [
        "Repare que temos pontos interessantes nesta visualização: \n",
        "* Um deles são esses filmes com muito custo e prejuizo. Isso pode ser um prejuizo real, mas também _podem ser filmes que ainda não tiveram tempo de recuperar o investimento (lançamentos recentes)_. \n",
        "* Outro ponto interessante de se analisar seriam os filmes com baixos orçamentos e muito lucro, será que estão corretos ou pode ser algum erro da base? Parece que nem sempre gastar uma tonelada de dinheiro vai gerar lucros absurdos, será que é isso é verdade?\n",
        "\n",
        "Esse gráfico é muito rico em informações, vale a pena você gastar um tempo criando hipóteses.\n",
        "\n",
        "Já que essa nova feature (lucro) parace ser interessante de se analisar, vamos continuar! Mas agora quero ver o **lucro em relação ao ano de produção**:"
      ]
    },
    {
      "cell_type": "code",
      "metadata": {
        "id": "faVtHwpbX14E",
        "colab_type": "code",
        "outputId": "51f6d065-7359-4641-ad27-f5bfe54f3c79",
        "colab": {
          "base_uri": "https://localhost:8080/",
          "height": 309
        }
      },
      "source": [
        "#Construimos nossa coluna lucro em relação ao ano de produção\n",
        "year_lucro = imdb_usa.query(\"budget > 0 | gross > 0\")[[\"title_year\", \"lucro\"]].dropna()\n",
        "sns.scatterplot(x = \"title_year\", y = \"lucro\", data = year_lucro)"
      ],
      "execution_count": 0,
      "outputs": [
        {
          "output_type": "execute_result",
          "data": {
            "text/plain": [
              "<matplotlib.axes._subplots.AxesSubplot at 0x7fb73b7f3198>"
            ]
          },
          "metadata": {
            "tags": []
          },
          "execution_count": 25
        },
        {
          "output_type": "display_data",
          "data": {
            "image/png": "[encoded data removed]",
            "text/plain": [
              "<Figure size 432x288 with 1 Axes>"
            ]
          },
          "metadata": {
            "tags": []
          }
        }
      ]
    },
    {
      "cell_type": "markdown",
      "metadata": {
        "id": "rIFxfOmxaSjm",
        "colab_type": "text"
      },
      "source": [
        "Veja como alguns pontos mais recentes reforçam a teoria anterior de que _alguns filmes podem ainda não ter recuperado o dinheiro investido_ (Claro que temos muitas variáveis para se analisar, mas é um indício relevante)."
      ]
    },
    {
      "cell_type": "markdown",
      "metadata": {
        "id": "h_J7EZnleEjo",
        "colab_type": "text"
      },
      "source": [
        "##Analisando o Orçamento dos Filmes de Alguns Diretores\n",
        "\n",
        "Sugerimos uma análise com os nome dos diretores e o orçamento de seus filmes, vamos ver se conseguimos concluir alguma coisa:"
      ]
    },
    {
      "cell_type": "code",
      "metadata": {
        "id": "W_mrccrAf1As",
        "colab_type": "code",
        "outputId": "cd03c5e8-2e1a-4d0e-f70a-190ed81983c6",
        "colab": {
          "base_uri": "https://localhost:8080/",
          "height": 206
        }
      },
      "source": [
        "#Contando a quantidade de filmes de cada diretor americano\n",
        "filmes_por_diretor = imdb_usa[\"director_name\"].value_counts()\n",
        "#Juntando a coluna quantidade de filmes com o orçamento \n",
        "gross_director = imdb_usa[[\"director_name\", \"gross\"]].set_index(\"director_name\").join(filmes_por_diretor, on = \"director_name\")\n",
        "#Escrevendo o nome das colunas em portugues\n",
        "gross_director.columns = [\"orçamento\", \"filmes_irmaos\"]\n",
        "gross_director = gross_director.reset_index()\n",
        "gross_director.head()\n"
      ],
      "execution_count": 0,
      "outputs": [
        {
          "output_type": "execute_result",
          "data": {
            "text/html": [
              "<div>\n",
              "<style scoped>\n",
              "    .dataframe tbody tr th:only-of-type {\n",
              "        vertical-align: middle;\n",
              "    }\n",
              "\n",
              "    .dataframe tbody tr th {\n",
              "        vertical-align: top;\n",
              "    }\n",
              "\n",
              "    .dataframe thead th {\n",
              "        text-align: right;\n",
              "    }\n",
              "</style>\n",
              "<table border=\"1\" class=\"dataframe\">\n",
              "  <thead>\n",
              "    <tr style=\"text-align: right;\">\n",
              "      <th></th>\n",
              "      <th>director_name</th>\n",
              "      <th>orçamento</th>\n",
              "      <th>filmes_irmaos</th>\n",
              "    </tr>\n",
              "  </thead>\n",
              "  <tbody>\n",
              "    <tr>\n",
              "      <th>0</th>\n",
              "      <td>Gore Verbinski</td>\n",
              "      <td>309404152.0</td>\n",
              "      <td>7.0</td>\n",
              "    </tr>\n",
              "    <tr>\n",
              "      <th>1</th>\n",
              "      <td>Andrew Stanton</td>\n",
              "      <td>73058679.0</td>\n",
              "      <td>3.0</td>\n",
              "    </tr>\n",
              "    <tr>\n",
              "      <th>2</th>\n",
              "      <td>Nathan Greno</td>\n",
              "      <td>200807262.0</td>\n",
              "      <td>1.0</td>\n",
              "    </tr>\n",
              "    <tr>\n",
              "      <th>3</th>\n",
              "      <td>Sam Raimi</td>\n",
              "      <td>336530303.0</td>\n",
              "      <td>11.0</td>\n",
              "    </tr>\n",
              "    <tr>\n",
              "      <th>4</th>\n",
              "      <td>Sam Raimi</td>\n",
              "      <td>336530303.0</td>\n",
              "      <td>11.0</td>\n",
              "    </tr>\n",
              "  </tbody>\n",
              "</table>\n",
              "</div>"
            ],
            "text/plain": [
              "    director_name    orçamento  filmes_irmaos\n",
              "0  Gore Verbinski  309404152.0            7.0\n",
              "1  Andrew Stanton   73058679.0            3.0\n",
              "2    Nathan Greno  200807262.0            1.0\n",
              "3       Sam Raimi  336530303.0           11.0\n",
              "4       Sam Raimi  336530303.0           11.0"
            ]
          },
          "metadata": {
            "tags": []
          },
          "execution_count": 26
        }
      ]
    },
    {
      "cell_type": "code",
      "metadata": {
        "id": "663yGFoSh0WL",
        "colab_type": "code",
        "outputId": "0d8cae10-a204-45cf-e77e-11f59e2b73a9",
        "colab": {
          "base_uri": "https://localhost:8080/",
          "height": 309
        }
      },
      "source": [
        "sns.scatterplot(data = gross_director, x = \"filmes_irmaos\", y = \"orçamento\")"
      ],
      "execution_count": 0,
      "outputs": [
        {
          "output_type": "execute_result",
          "data": {
            "text/plain": [
              "<matplotlib.axes._subplots.AxesSubplot at 0x7fb73b7cd5c0>"
            ]
          },
          "metadata": {
            "tags": []
          },
          "execution_count": 27
        },
        {
          "output_type": "display_data",
          "data": {
            "image/png": "[encoded data removed]",
            "text/plain": [
              "<Figure size 432x288 with 1 Axes>"
            ]
          },
          "metadata": {
            "tags": []
          }
        }
      ]
    },
    {
      "cell_type": "markdown",
      "metadata": {
        "id": "osrDH8giiIC4",
        "colab_type": "text"
      },
      "source": [
        "Essa imagem aparentemente, infelizmente, não é muito conclusiva, então não conseguimos inferir tantas informações. Esse processo de gerar dados, visualizações e acabar não sendo conclusivo é muito comum na vida de um cientista de dados, não se preocupe."
      ]
    },
    {
      "cell_type": "markdown",
      "metadata": {
        "id": "Dm7-Vn9BidJk",
        "colab_type": "text"
      },
      "source": [
        "#Correlação de Dados\n",
        "\n",
        "Para finalizar, que tal realizar uma análise das correlações dos dados? \n",
        "\n",
        "Existem várias formas de calcular a correlação, esse é um assunto denso. Você pode ler mais sobre essas métricas neste [link](https://pt.wikipedia.org/wiki/Correla%C3%A7%C3%A3o).\n",
        "\n",
        "Podemos iniciar a análise das correlações plotando o pairplot. O pairplot mostra muita informação e a melhor forma de você entender é assistindo as conclusões que tiramos sobre esses gráficos na vídeoaula."
      ]
    },
    {
      "cell_type": "code",
      "metadata": {
        "id": "c41JA0PNqDNB",
        "colab_type": "code",
        "outputId": "a177c165-9292-4f67-945a-721b24f3cd16",
        "colab": {
          "base_uri": "https://localhost:8080/",
          "height": 206
        }
      },
      "source": [
        "imdb_usa[[\"gross\", \"budget\", \"lucro\", \"title_year\"]].head()"
      ],
      "execution_count": 0,
      "outputs": [
        {
          "output_type": "execute_result",
          "data": {
            "text/html": [
              "<div>\n",
              "<style scoped>\n",
              "    .dataframe tbody tr th:only-of-type {\n",
              "        vertical-align: middle;\n",
              "    }\n",
              "\n",
              "    .dataframe tbody tr th {\n",
              "        vertical-align: top;\n",
              "    }\n",
              "\n",
              "    .dataframe thead th {\n",
              "        text-align: right;\n",
              "    }\n",
              "</style>\n",
              "<table border=\"1\" class=\"dataframe\">\n",
              "  <thead>\n",
              "    <tr style=\"text-align: right;\">\n",
              "      <th></th>\n",
              "      <th>gross</th>\n",
              "      <th>budget</th>\n",
              "      <th>lucro</th>\n",
              "      <th>title_year</th>\n",
              "    </tr>\n",
              "  </thead>\n",
              "  <tbody>\n",
              "    <tr>\n",
              "      <th>1</th>\n",
              "      <td>309404152.0</td>\n",
              "      <td>300000000.0</td>\n",
              "      <td>9404152.0</td>\n",
              "      <td>2007.0</td>\n",
              "    </tr>\n",
              "    <tr>\n",
              "      <th>5</th>\n",
              "      <td>73058679.0</td>\n",
              "      <td>263700000.0</td>\n",
              "      <td>-190641321.0</td>\n",
              "      <td>2012.0</td>\n",
              "    </tr>\n",
              "    <tr>\n",
              "      <th>7</th>\n",
              "      <td>200807262.0</td>\n",
              "      <td>260000000.0</td>\n",
              "      <td>-59192738.0</td>\n",
              "      <td>2010.0</td>\n",
              "    </tr>\n",
              "    <tr>\n",
              "      <th>6</th>\n",
              "      <td>336530303.0</td>\n",
              "      <td>258000000.0</td>\n",
              "      <td>78530303.0</td>\n",
              "      <td>2007.0</td>\n",
              "    </tr>\n",
              "    <tr>\n",
              "      <th>3461</th>\n",
              "      <td>336530303.0</td>\n",
              "      <td>258000000.0</td>\n",
              "      <td>78530303.0</td>\n",
              "      <td>2007.0</td>\n",
              "    </tr>\n",
              "  </tbody>\n",
              "</table>\n",
              "</div>"
            ],
            "text/plain": [
              "            gross       budget        lucro  title_year\n",
              "1     309404152.0  300000000.0    9404152.0      2007.0\n",
              "5      73058679.0  263700000.0 -190641321.0      2012.0\n",
              "7     200807262.0  260000000.0  -59192738.0      2010.0\n",
              "6     336530303.0  258000000.0   78530303.0      2007.0\n",
              "3461  336530303.0  258000000.0   78530303.0      2007.0"
            ]
          },
          "metadata": {
            "tags": []
          },
          "execution_count": 28
        }
      ]
    },
    {
      "cell_type": "code",
      "metadata": {
        "id": "z6uqlsjqmb_f",
        "colab_type": "code",
        "outputId": "473a5f95-55b2-4207-87d3-45d6b7891122",
        "colab": {
          "base_uri": "https://localhost:8080/",
          "height": 776
        }
      },
      "source": [
        "sns.pairplot(data = imdb_usa[[\"gross\", \"budget\", \"lucro\", \"title_year\"]])"
      ],
      "execution_count": 0,
      "outputs": [
        {
          "output_type": "execute_result",
          "data": {
            "text/plain": [
              "<seaborn.axisgrid.PairGrid at 0x7fb73b759208>"
            ]
          },
          "metadata": {
            "tags": []
          },
          "execution_count": 29
        },
        {
          "output_type": "display_data",
          "data": {
            "image/png": "[encoded data removed]",
            "text/plain": [
              "<Figure size 720x720 with 20 Axes>"
            ]
          },
          "metadata": {
            "tags": []
          }
        }
      ]
    },
    {
      "cell_type": "markdown",
      "metadata": {
        "id": "X2zIZKHro5ho",
        "colab_type": "text"
      },
      "source": [
        "Embora plotamos um monte de informação, não necessariamente reduzimos a correlação em um número para simplificar a análise. Vamos fazer isso com a ajuda do .corr() do pandas. "
      ]
    },
    {
      "cell_type": "code",
      "metadata": {
        "id": "l95fiTaDo_x2",
        "colab_type": "code",
        "outputId": "3cfa3988-3052-4237-9e5c-6577ed5e9b16",
        "colab": {
          "base_uri": "https://localhost:8080/",
          "height": 175
        }
      },
      "source": [
        "#Simplificando os graficos em números\n",
        "imdb_usa[[\"gross\", \"budget\", \"lucro\", \"title_year\"]].corr().round(3)"
      ],
      "execution_count": 0,
      "outputs": [
        {
          "output_type": "execute_result",
          "data": {
            "text/html": [
              "<div>\n",
              "<style scoped>\n",
              "    .dataframe tbody tr th:only-of-type {\n",
              "        vertical-align: middle;\n",
              "    }\n",
              "\n",
              "    .dataframe tbody tr th {\n",
              "        vertical-align: top;\n",
              "    }\n",
              "\n",
              "    .dataframe thead th {\n",
              "        text-align: right;\n",
              "    }\n",
              "</style>\n",
              "<table border=\"1\" class=\"dataframe\">\n",
              "  <thead>\n",
              "    <tr style=\"text-align: right;\">\n",
              "      <th></th>\n",
              "      <th>gross</th>\n",
              "      <th>budget</th>\n",
              "      <th>lucro</th>\n",
              "      <th>title_year</th>\n",
              "    </tr>\n",
              "  </thead>\n",
              "  <tbody>\n",
              "    <tr>\n",
              "      <th>gross</th>\n",
              "      <td>1.000</td>\n",
              "      <td>0.646</td>\n",
              "      <td>0.797</td>\n",
              "      <td>0.035</td>\n",
              "    </tr>\n",
              "    <tr>\n",
              "      <th>budget</th>\n",
              "      <td>0.646</td>\n",
              "      <td>1.000</td>\n",
              "      <td>0.053</td>\n",
              "      <td>0.229</td>\n",
              "    </tr>\n",
              "    <tr>\n",
              "      <th>lucro</th>\n",
              "      <td>0.797</td>\n",
              "      <td>0.053</td>\n",
              "      <td>1.000</td>\n",
              "      <td>-0.123</td>\n",
              "    </tr>\n",
              "    <tr>\n",
              "      <th>title_year</th>\n",
              "      <td>0.035</td>\n",
              "      <td>0.229</td>\n",
              "      <td>-0.123</td>\n",
              "      <td>1.000</td>\n",
              "    </tr>\n",
              "  </tbody>\n",
              "</table>\n",
              "</div>"
            ],
            "text/plain": [
              "            gross  budget  lucro  title_year\n",
              "gross       1.000   0.646  0.797       0.035\n",
              "budget      0.646   1.000  0.053       0.229\n",
              "lucro       0.797   0.053  1.000      -0.123\n",
              "title_year  0.035   0.229 -0.123       1.000"
            ]
          },
          "metadata": {
            "tags": []
          },
          "execution_count": 30
        }
      ]
    },
    {
      "cell_type": "markdown",
      "metadata": {
        "id": "V1XuyQVWqW6T",
        "colab_type": "text"
      },
      "source": [
        "Com o pandas é simples de se calcular a correlação, mas precisamos saber interpretar os resultados:\n",
        "\n",
        "* A correlação é uma métrica que vai de 1 a -1. \n",
        "* Quando a correlação é 1, dizemos que é totalmente correlacionada (relação linear perfeita e positiva), ou seja se uma variável aumenta em 10 a outra também irá aumentar em 10. \n",
        "* Quando o valor da correlação é -1, também temos variáveis totalmente correlacionda, só que de maneira negativa (relação linear perfeita negativa), neste caso, se uma variável aumenta em 10 a outra reduz em 10. \n",
        "* Quando a correlação é 0 temos a inexistência de correlação, ou seja, uma variável não tem influêcia sobre a outra.\n",
        "\n",
        "Entendido sobre a correlação vamos analisar as nossas: \n",
        "* Veja que lucro e faturamento(gross) tem uma correlação alta, o que indica que quanto maior o orçamento maior o lucro (mas repare que a correlação não é perfeita)\n",
        "* O ano de produção (title_yers) e lucro tem correlação negativa, mas muito perto de zero (ou seja quase não tem correlação). \n",
        "\n",
        "Viu como conseguimos analisar muitas coisas com a correlação?! Pense e tente analisar os outros casos também.\n",
        "\n",
        "P.S: A partir de agora teremos muitos desafios envolvendo mais análises e conclusões, então não haverá um \"gabarito\". O importante é você compartilhar suas soluções com os colegas e debater os seus resultados e das outras pessoas\n"
      ]
    },
    {
      "cell_type": "markdown",
      "metadata": {
        "id": "LWPsgqFrrqFj",
        "colab_type": "text"
      },
      "source": [
        "## Desafio 1\n",
        "\n",
        "Plotar e analisar o Boxplot da MEDIA das NOTAS (coluna imbd_score) dos filmes em preto e branco e coloridos."
      ]
    },
    {
      "cell_type": "code",
      "metadata": {
        "id": "NcPQByYrr13P",
        "colab_type": "code",
        "outputId": "d86b5838-d38f-4493-ee9e-ee1366d55150",
        "colab": {
          "base_uri": "https://localhost:8080/",
          "height": 297
        }
      },
      "source": [
        "sns.boxplot(data = color_or_bw, x = 'color', y = 'imdb_score')"
      ],
      "execution_count": 0,
      "outputs": [
        {
          "output_type": "execute_result",
          "data": {
            "text/plain": [
              "<matplotlib.axes._subplots.AxesSubplot at 0x7fb73b0ca6d8>"
            ]
          },
          "metadata": {
            "tags": []
          },
          "execution_count": 31
        },
        {
          "output_type": "display_data",
          "data": {
            "image/png": "[encoded data removed]",
            "text/plain": [
              "<Figure size 432x288 with 1 Axes>"
            ]
          },
          "metadata": {
            "tags": []
          }
        }
      ]
    },
    {
      "cell_type": "markdown",
      "metadata": {
        "id": "z7RrLiz3r2_m",
        "colab_type": "text"
      },
      "source": [
        "## Desafio 2\n",
        "\n",
        "No gráfico de **budget por lucro** temos um ponto com muito custo e prejuizo, descubra qual é esse filme (budget próximo de 2.5)."
      ]
    },
    {
      "cell_type": "code",
      "metadata": {
        "id": "KbzfGB4Or7ER",
        "colab_type": "code",
        "outputId": "98805ca6-56e0-466a-e559-0aee8ddd3357",
        "colab": {
          "base_uri": "https://localhost:8080/",
          "height": 54
        }
      },
      "source": [
        "#Ordenando os filmes do menor para o maior (ascendente) com base no lucro\n",
        "imdb_usa.sort_values('lucro', ascending=True).head(1)['movie_title']"
      ],
      "execution_count": 0,
      "outputs": [
        {
          "output_type": "execute_result",
          "data": {
            "text/plain": [
              "5    John Carter \n",
              "Name: movie_title, dtype: object"
            ]
          },
          "metadata": {
            "tags": []
          },
          "execution_count": 32
        }
      ]
    },
    {
      "cell_type": "markdown",
      "metadata": {
        "id": "zDoPYkpUr7SY",
        "colab_type": "text"
      },
      "source": [
        "##Desafio 3\n",
        "\n",
        "Em aula falamos que talvez, filmes mais recentes podem ter prejuizo pois ainda não tiveram tempo de recuperar o investimento. Analise essas informações e nos conte quais foram suas conclusões."
      ]
    },
    {
      "cell_type": "code",
      "metadata": {
        "id": "tscUAhggsEeS",
        "colab_type": "code",
        "outputId": "ddcc9ba1-49d5-4413-fb1e-7f220c3003c3",
        "colab": {
          "base_uri": "https://localhost:8080/",
          "height": 363
        }
      },
      "source": [
        "#Mostrando os filmes mais recentes (na ordem decrescente com base no ano)\n",
        "imdb_usa.query('budget > 0 and gross > 0').sort_values('title_year', ascending = False).head(10)[['movie_title', 'lucro', 'title_year']]"
      ],
      "execution_count": 0,
      "outputs": [
        {
          "output_type": "execute_result",
          "data": {
            "text/html": [
              "<div>\n",
              "<style scoped>\n",
              "    .dataframe tbody tr th:only-of-type {\n",
              "        vertical-align: middle;\n",
              "    }\n",
              "\n",
              "    .dataframe tbody tr th {\n",
              "        vertical-align: top;\n",
              "    }\n",
              "\n",
              "    .dataframe thead th {\n",
              "        text-align: right;\n",
              "    }\n",
              "</style>\n",
              "<table border=\"1\" class=\"dataframe\">\n",
              "  <thead>\n",
              "    <tr style=\"text-align: right;\">\n",
              "      <th></th>\n",
              "      <th>movie_title</th>\n",
              "      <th>lucro</th>\n",
              "      <th>title_year</th>\n",
              "    </tr>\n",
              "  </thead>\n",
              "  <tbody>\n",
              "    <tr>\n",
              "      <th>73</th>\n",
              "      <td>Suicide Squad</td>\n",
              "      <td>-13912817.0</td>\n",
              "      <td>2016.0</td>\n",
              "    </tr>\n",
              "    <tr>\n",
              "      <th>3753</th>\n",
              "      <td>Fifty Shades of Black</td>\n",
              "      <td>6675178.0</td>\n",
              "      <td>2016.0</td>\n",
              "    </tr>\n",
              "    <tr>\n",
              "      <th>1789</th>\n",
              "      <td>Pride and Prejudice and Zombies</td>\n",
              "      <td>-17092709.0</td>\n",
              "      <td>2016.0</td>\n",
              "    </tr>\n",
              "    <tr>\n",
              "      <th>380</th>\n",
              "      <td>Now You See Me 2</td>\n",
              "      <td>-25314641.0</td>\n",
              "      <td>2016.0</td>\n",
              "    </tr>\n",
              "    <tr>\n",
              "      <th>3756</th>\n",
              "      <td>The Perfect Match</td>\n",
              "      <td>4658370.0</td>\n",
              "      <td>2016.0</td>\n",
              "    </tr>\n",
              "    <tr>\n",
              "      <th>2549</th>\n",
              "      <td>The Young Messiah</td>\n",
              "      <td>-12037424.0</td>\n",
              "      <td>2016.0</td>\n",
              "    </tr>\n",
              "    <tr>\n",
              "      <th>1010</th>\n",
              "      <td>Free State of Jones</td>\n",
              "      <td>-29610033.0</td>\n",
              "      <td>2016.0</td>\n",
              "    </tr>\n",
              "    <tr>\n",
              "      <th>150</th>\n",
              "      <td>Ghostbusters</td>\n",
              "      <td>-25900341.0</td>\n",
              "      <td>2016.0</td>\n",
              "    </tr>\n",
              "    <tr>\n",
              "      <th>2022</th>\n",
              "      <td>Jane Got a Gun</td>\n",
              "      <td>-23487185.0</td>\n",
              "      <td>2016.0</td>\n",
              "    </tr>\n",
              "    <tr>\n",
              "      <th>106</th>\n",
              "      <td>Alice Through the Looking Glass</td>\n",
              "      <td>-93153376.0</td>\n",
              "      <td>2016.0</td>\n",
              "    </tr>\n",
              "  </tbody>\n",
              "</table>\n",
              "</div>"
            ],
            "text/plain": [
              "                           movie_title       lucro  title_year\n",
              "73                      Suicide Squad  -13912817.0      2016.0\n",
              "3753            Fifty Shades of Black    6675178.0      2016.0\n",
              "1789  Pride and Prejudice and Zombies  -17092709.0      2016.0\n",
              "380                  Now You See Me 2  -25314641.0      2016.0\n",
              "3756                The Perfect Match    4658370.0      2016.0\n",
              "2549                The Young Messiah  -12037424.0      2016.0\n",
              "1010              Free State of Jones  -29610033.0      2016.0\n",
              "150                      Ghostbusters  -25900341.0      2016.0\n",
              "2022                   Jane Got a Gun  -23487185.0      2016.0\n",
              "106   Alice Through the Looking Glass  -93153376.0      2016.0"
            ]
          },
          "metadata": {
            "tags": []
          },
          "execution_count": 33
        }
      ]
    },
    {
      "cell_type": "code",
      "metadata": {
        "id": "LAKtJjBVyR1y",
        "colab_type": "code",
        "outputId": "6e7b5fcd-17b3-48ff-e348-1e7a613f1cdc",
        "colab": {
          "base_uri": "https://localhost:8080/",
          "height": 309
        }
      },
      "source": [
        "lucro_year = imdb_usa[[\"title_year\", \"lucro\"]].dropna()\n",
        "sns.scatterplot(data = lucro_year, x = \"title_year\", y = \"lucro\")"
      ],
      "execution_count": 0,
      "outputs": [
        {
          "output_type": "execute_result",
          "data": {
            "text/plain": [
              "<matplotlib.axes._subplots.AxesSubplot at 0x7fb73989dc18>"
            ]
          },
          "metadata": {
            "tags": []
          },
          "execution_count": 34
        },
        {
          "output_type": "display_data",
          "data": {
            "image/png": "[encoded data removed]",
            "text/plain": [
              "<Figure size 432x288 with 1 Axes>"
            ]
          },
          "metadata": {
            "tags": []
          }
        }
      ]
    },
    {
      "cell_type": "markdown",
      "metadata": {
        "id": "AU4hKwXPsEvV",
        "colab_type": "text"
      },
      "source": [
        "##Desafio 4\n",
        "\n",
        "Quais foram os filmes da decada pré 2° guerra que tiveram muito lucro."
      ]
    },
    {
      "cell_type": "code",
      "metadata": {
        "id": "DTwm8D6VsH2r",
        "colab_type": "code",
        "outputId": "1bc7acdc-99a5-4b7a-aca1-b99814fb8597",
        "colab": {
          "base_uri": "https://localhost:8080/",
          "height": 206
        }
      },
      "source": [
        "pre_war = imdb_usa.query('title_year < 1940').sort_values('lucro', ascending  =False).dropna()\n",
        "pre_war[['movie_title', 'lucro']].head(5)"
      ],
      "execution_count": 0,
      "outputs": [
        {
          "output_type": "execute_result",
          "data": {
            "text/html": [
              "<div>\n",
              "<style scoped>\n",
              "    .dataframe tbody tr th:only-of-type {\n",
              "        vertical-align: middle;\n",
              "    }\n",
              "\n",
              "    .dataframe tbody tr th {\n",
              "        vertical-align: top;\n",
              "    }\n",
              "\n",
              "    .dataframe thead th {\n",
              "        text-align: right;\n",
              "    }\n",
              "</style>\n",
              "<table border=\"1\" class=\"dataframe\">\n",
              "  <thead>\n",
              "    <tr style=\"text-align: right;\">\n",
              "      <th></th>\n",
              "      <th>movie_title</th>\n",
              "      <th>lucro</th>\n",
              "    </tr>\n",
              "  </thead>\n",
              "  <tbody>\n",
              "    <tr>\n",
              "      <th>3970</th>\n",
              "      <td>Gone with the Wind</td>\n",
              "      <td>194678278.0</td>\n",
              "    </tr>\n",
              "    <tr>\n",
              "      <th>4449</th>\n",
              "      <td>Snow White and the Seven Dwarfs</td>\n",
              "      <td>182925485.0</td>\n",
              "    </tr>\n",
              "    <tr>\n",
              "      <th>4157</th>\n",
              "      <td>The Wizard of Oz</td>\n",
              "      <td>19402612.0</td>\n",
              "    </tr>\n",
              "    <tr>\n",
              "      <th>4812</th>\n",
              "      <td>The Broadway Melody</td>\n",
              "      <td>2429000.0</td>\n",
              "    </tr>\n",
              "    <tr>\n",
              "      <th>4706</th>\n",
              "      <td>Top Hat</td>\n",
              "      <td>2391000.0</td>\n",
              "    </tr>\n",
              "  </tbody>\n",
              "</table>\n",
              "</div>"
            ],
            "text/plain": [
              "                           movie_title        lucro\n",
              "3970               Gone with the Wind   194678278.0\n",
              "4449  Snow White and the Seven Dwarfs   182925485.0\n",
              "4157                 The Wizard of Oz    19402612.0\n",
              "4812              The Broadway Melody     2429000.0\n",
              "4706                          Top Hat     2391000.0"
            ]
          },
          "metadata": {
            "tags": []
          },
          "execution_count": 35
        }
      ]
    },
    {
      "cell_type": "markdown",
      "metadata": {
        "id": "PvuP6ot9sIO6",
        "colab_type": "text"
      },
      "source": [
        "##Desafio 5\n",
        "\n",
        "No gráfico de **filmes_irmaos por orçamento** temos alguns pontos estranhos entre 15 e 20. Confirme a tese genial do Paulo que o cidadão estranho é o Woody Allen.\n",
        "\n"
      ]
    },
    {
      "cell_type": "code",
      "metadata": {
        "id": "51-0nqgTsMZ8",
        "colab_type": "code",
        "outputId": "f47dea5c-a8fd-4ee5-aa4a-ea3a4e8177ec",
        "colab": {
          "base_uri": "https://localhost:8080/",
          "height": 81
        }
      },
      "source": [
        "gross_director.drop_duplicates('director_name').query('filmes_irmaos == 18')"
      ],
      "execution_count": 0,
      "outputs": [
        {
          "output_type": "execute_result",
          "data": {
            "text/html": [
              "<div>\n",
              "<style scoped>\n",
              "    .dataframe tbody tr th:only-of-type {\n",
              "        vertical-align: middle;\n",
              "    }\n",
              "\n",
              "    .dataframe tbody tr th {\n",
              "        vertical-align: top;\n",
              "    }\n",
              "\n",
              "    .dataframe thead th {\n",
              "        text-align: right;\n",
              "    }\n",
              "</style>\n",
              "<table border=\"1\" class=\"dataframe\">\n",
              "  <thead>\n",
              "    <tr style=\"text-align: right;\">\n",
              "      <th></th>\n",
              "      <th>director_name</th>\n",
              "      <th>orçamento</th>\n",
              "      <th>filmes_irmaos</th>\n",
              "    </tr>\n",
              "  </thead>\n",
              "  <tbody>\n",
              "    <tr>\n",
              "      <th>1502</th>\n",
              "      <td>Woody Allen</td>\n",
              "      <td>7496522.0</td>\n",
              "      <td>18.0</td>\n",
              "    </tr>\n",
              "  </tbody>\n",
              "</table>\n",
              "</div>"
            ],
            "text/plain": [
              "     director_name  orçamento  filmes_irmaos\n",
              "1502   Woody Allen  7496522.0           18.0"
            ]
          },
          "metadata": {
            "tags": []
          },
          "execution_count": 36
        }
      ]
    },
    {
      "cell_type": "markdown",
      "metadata": {
        "id": "w1GnURPlsMt3",
        "colab_type": "text"
      },
      "source": [
        "##Desafio 6\n",
        "\n",
        "Analise mais detalhadamente o gráfico pairplot, gaste um tempo pensando e tentando enteder os gráficos."
      ]
    },
    {
      "cell_type": "code",
      "metadata": {
        "id": "mlDOJzPRsRCF",
        "colab_type": "code",
        "outputId": "58cdb947-a9d9-44a8-9e82-d3ebb34fcae4",
        "colab": {
          "base_uri": "https://localhost:8080/",
          "height": 191
        }
      },
      "source": [
        "plt.figure(figsize=(12, 6))\n",
        "sns.scatterplot(x = \"filmes_irmaos\", y = \"orçamento\", data=gross_director)"
      ],
      "execution_count": 0,
      "outputs": [
        {
          "output_type": "error",
          "ename": "NameError",
          "evalue": "ignored",
          "traceback": [
            "\u001b[0;31m---------------------------------------------------------------------------\u001b[0m",
            "\u001b[0;31mNameError\u001b[0m                                 Traceback (most recent call last)",
            "\u001b[0;32m<ipython-input-37-009c2308735a>\u001b[0m in \u001b[0;36m<module>\u001b[0;34m()\u001b[0m\n\u001b[0;32m----> 1\u001b[0;31m \u001b[0mplt\u001b[0m\u001b[0;34m.\u001b[0m\u001b[0mfigure\u001b[0m\u001b[0;34m(\u001b[0m\u001b[0mfigsize\u001b[0m\u001b[0;34m=\u001b[0m\u001b[0;34m(\u001b[0m\u001b[0;36m12\u001b[0m\u001b[0;34m,\u001b[0m \u001b[0;36m6\u001b[0m\u001b[0;34m)\u001b[0m\u001b[0;34m)\u001b[0m\u001b[0;34m\u001b[0m\u001b[0;34m\u001b[0m\u001b[0m\n\u001b[0m\u001b[1;32m      2\u001b[0m \u001b[0msns\u001b[0m\u001b[0;34m.\u001b[0m\u001b[0mscatterplot\u001b[0m\u001b[0;34m(\u001b[0m\u001b[0mx\u001b[0m \u001b[0;34m=\u001b[0m \u001b[0;34m\"filmes_irmaos\"\u001b[0m\u001b[0;34m,\u001b[0m \u001b[0my\u001b[0m \u001b[0;34m=\u001b[0m \u001b[0;34m\"orçamento\"\u001b[0m\u001b[0;34m,\u001b[0m \u001b[0mdata\u001b[0m\u001b[0;34m=\u001b[0m\u001b[0mgross_director\u001b[0m\u001b[0;34m)\u001b[0m\u001b[0;34m\u001b[0m\u001b[0;34m\u001b[0m\u001b[0m\n",
            "\u001b[0;31mNameError\u001b[0m: name 'plt' is not defined"
          ]
        }
      ]
    },
    {
      "cell_type": "code",
      "metadata": {
        "id": "TuQjsbTz1ZpI",
        "colab_type": "code",
        "colab": {}
      },
      "source": [
        "gross_director[(gross_director['filmes_irmaos'] > 17) & (gross_director['filmes_irmaos'] < 19)]"
      ],
      "execution_count": 0,
      "outputs": []
    },
    {
      "cell_type": "markdown",
      "metadata": {
        "id": "sv2CzDOmsRQJ",
        "colab_type": "text"
      },
      "source": [
        "##Desafio 7\n",
        "\n",
        "Calcular a correlação apenas dos filmes pós anos 2000 (Jogar fora filmes antes de 2000) e interpretar essa correlação."
      ]
    },
    {
      "cell_type": "code",
      "metadata": {
        "id": "fh-kXxGbsVqb",
        "colab_type": "code",
        "colab": {}
      },
      "source": [
        "filmes_depois_de_2000 = imdb_usa.query('title_year >= 2000')\n",
        "filmes_depois_de_2000[[\"gross\", \"budget\", \"lucro\", \"title_year\"]].corr()"
      ],
      "execution_count": 0,
      "outputs": []
    },
    {
      "cell_type": "markdown",
      "metadata": {
        "id": "Q21kanfq1-3v",
        "colab_type": "text"
      },
      "source": [
        "Em comparação à correlação anterior: \n",
        "* Para os filmes de depois de 2000 a correlação entre gross-budget(orçamento-finança) e budget-lucro (finança-lucro) aumentou enquanto entre gross-lucro (finança-lucro) diminuiu, todos com pequenas margens de diferenças.\n",
        "* Olhando para budget-lucro (finança-lucro), foi um aumento pequeno no valor da correlação desses filmes do imdb, mas que condiz com o esperado de que o budget é cada vez maior com o tempo assim como o lucro, os dois crescendo de forma bem semelhante.\n",
        "\n"
      ]
    },
    {
      "cell_type": "markdown",
      "metadata": {
        "id": "MovW_305sV4e",
        "colab_type": "text"
      },
      "source": [
        "##Desafio 8\n",
        "\n",
        "Tentar encontrar uma reta, pode ser com uma régua no monitor (não faça isso), com o excel/google sheets, com o python, no gráfico que parece se aproximar com uma reta (por exemplo budget/lucro, gross/lucro)"
      ]
    },
    {
      "cell_type": "code",
      "metadata": {
        "id": "4C5kl5F2sa2T",
        "colab_type": "code",
        "colab": {}
      },
      "source": [
        "sns.pairplot(imdb_usa, y_vars='lucro', x_vars=['budget', 'gross'], height=6, kind='reg')"
      ],
      "execution_count": 0,
      "outputs": []
    },
    {
      "cell_type": "markdown",
      "metadata": {
        "id": "wUm8JbtesbBv",
        "colab_type": "text"
      },
      "source": [
        "##Desafio 9\n",
        "\n",
        "Analisar e interpretar a correlação de outras variáveis além das feitas em sala (notas é uma boa). Número de avaliações por ano pode ser também uma feature."
      ]
    },
    {
      "cell_type": "code",
      "metadata": {
        "id": "I9PLICrUsdoQ",
        "colab_type": "code",
        "colab": {}
      },
      "source": [
        "imdb_usa[[\"gross\", \"budget\", \"imdb_score\"]].corr()"
      ],
      "execution_count": 0,
      "outputs": []
    },
    {
      "cell_type": "code",
      "metadata": {
        "id": "9hlTE8NE4HfL",
        "colab_type": "code",
        "colab": {}
      },
      "source": [
        "votos_por_ano = imdb_usa.groupby('title_year')['num_voted_users'].mean()\n",
        "imdb_usa_votos_por_ano = imdb_usa.join(votos_por_ano, on='title_year', rsuffix='rs')\n",
        "imdb_usa_votos_por_ano.rename(columns={'num_voted_usersrs': 'votos_por_ano'}, inplace=True)\n",
        "imdb_usa_votos_por_ano.head()"
      ],
      "execution_count": 0,
      "outputs": []
    },
    {
      "cell_type": "code",
      "metadata": {
        "id": "WkdITKXi4Jqq",
        "colab_type": "code",
        "colab": {}
      },
      "source": [
        "imdb_usa_votos_por_ano[['title_year', 'votos_por_ano']].corr()"
      ],
      "execution_count": 0,
      "outputs": []
    },
    {
      "cell_type": "code",
      "metadata": {
        "id": "jh6kckSE4MHg",
        "colab_type": "code",
        "colab": {}
      },
      "source": [
        "plt.figure(figsize=(12, 6))\n",
        "sns.scatterplot(x='title_year', y='votos_por_ano', data=imdb_usa_votos_por_ano)"
      ],
      "execution_count": 0,
      "outputs": []
    }
  ]
}